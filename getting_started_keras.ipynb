{
  "nbformat": 4,
  "nbformat_minor": 0,
  "metadata": {
    "accelerator": "GPU",
    "colab": {
      "name": "getting-started-keras.ipynb",
      "provenance": [],
      "collapsed_sections": [],
      "include_colab_link": true
    },
    "kernelspec": {
      "display_name": "Python 3",
      "language": "python",
      "name": "python3"
    },
    "language_info": {
      "codemirror_mode": {
        "name": "ipython",
        "version": 3
      },
      "file_extension": ".py",
      "mimetype": "text/x-python",
      "name": "python",
      "nbconvert_exporter": "python",
      "pygments_lexer": "ipython3",
      "version": "3.5.3"
    }
  },
  "cells": [
    {
      "cell_type": "markdown",
      "metadata": {
        "id": "view-in-github",
        "colab_type": "text"
      },
      "source": [
        "<a href=\"https://colab.research.google.com/github/Apidwalin/-DESKTOP-9QGAS69-tensorflow1/blob/Apidwalin-patch-1/getting_started_keras.ipynb\" target=\"_parent\"><img src=\"https://colab.research.google.com/assets/colab-badge.svg\" alt=\"Open In Colab\"/></a>"
      ]
    },
    {
      "cell_type": "markdown",
      "metadata": {
        "id": "mHF9VCProKJN"
      },
      "source": [
        "# Getting started: Training and prediction with Keras in AI Platform\n",
        "\n",
        "<img src=\"https://storage.googleapis.com/cloud-samples-data/ai-platform/census/keras-tensorflow-cmle.png\" alt=\"Keras, TensorFlow, and AI Platform logos\" width=\"300px\">\n",
        "\n",
        "<table align=\"left\">\n",
        "  <td>\n",
        "    <a href=\"https://cloud.google.com/ml-engine/docs/tensorflow/getting-started-keras\">\n",
        "      <img src=\"https://cloud.google.com/_static/images/cloud/icons/favicons/onecloud/super_cloud.png\"\n",
        "           alt=\"Google Cloud logo\" width=\"32px\"> Read on cloud.google.com\n",
        "    </a>\n",
        "  </td>\n",
        "  <td>\n",
        "    <a href=\"https://colab.research.google.com/github/GoogleCloudPlatform/cloudml-samples/blob/master/notebooks/tensorflow/getting-started-keras.ipynb\">\n",
        "      <img src=\"https://cloud.google.com/ml-engine/images/colab-logo-32px.png\" alt=\"Colab logo\"> Run in Colab\n",
        "    </a>\n",
        "  </td>\n",
        "  <td>\n",
        "    <a href=\"https://github.com/GoogleCloudPlatform/cloudml-samples/blob/master/notebooks/tensorflow/getting-started-keras.ipynb\">\n",
        "      <img src=\"https://cloud.google.com/ml-engine/images/github-logo-32px.png\" alt=\"GitHub logo\">\n",
        "      View on GitHub\n",
        "    </a>\n",
        "  </td>\n",
        "</table>"
      ]
    },
    {
      "cell_type": "code",
      "metadata": {
        "id": "8tm0r4jh2jdQ"
      },
      "source": [
        ""
      ],
      "execution_count": null,
      "outputs": []
    },
    {
      "cell_type": "code",
      "metadata": {
        "id": "3IktvSrhFkI1"
      },
      "source": [
        "# Copyright 2019 Google LLC\n",
        "#\n",
        "# Licensed under the Apache License, Version 2.0 (the \"License\");\n",
        "# you may not use this file except in compliance with the License.\n",
        "# You may obtain a copy of the License at\n",
        "#\n",
        "#     https://www.apache.org/licenses/LICENSE-2.0\n",
        "#\n",
        "# Unless required by applicable law or agreed to in writing, software\n",
        "# distributed under the License is distributed on an \"AS IS\" BASIS,\n",
        "# WITHOUT WARRANTIES OR CONDITIONS OF ANY KIND, either express or implied.\n",
        "# See the License for the specific language governing permissions and\n",
        "# limitations under the License."
      ],
      "execution_count": 1,
      "outputs": []
    },
    {
      "cell_type": "markdown",
      "metadata": {
        "id": "hZzRVxNtH-zG"
      },
      "source": [
        "## Overview\n",
        "\n",
        "This tutorial shows how to train a neural network on AI Platform\n",
        "using the Keras sequential API and how to serve predictions from that\n",
        "model.\n",
        "\n",
        "Keras is a high-level API for building and training deep learning models.\n",
        "[tf.keras](https://www.tensorflow.org/guide/keras) is TensorFlow’s\n",
        "implementation of this API.\n",
        "\n",
        "The first two parts of the tutorial walk through training a model on Cloud\n",
        "AI Platform using prewritten Keras code, deploying the trained model to\n",
        "AI Platform, and serving online predictions from the deployed model.\n",
        "\n",
        "The last part of the tutorial digs into the training code used for this model and ensuring it's compatible with AI Platform. To learn more about building\n",
        "machine learning models in Keras more generally, read [TensorFlow's Keras\n",
        "tutorials](https://www.tensorflow.org/tutorials/keras)."
      ]
    },
    {
      "cell_type": "markdown",
      "metadata": {
        "id": "iN69d4D9Flrh"
      },
      "source": [
        "### Dataset\n",
        "\n",
        "This tutorial uses the [United States Census Income\n",
        "Dataset](https://archive.ics.uci.edu/ml/datasets/census+income) provided by the\n",
        "[UC Irvine Machine Learning\n",
        "Repository](https://archive.ics.uci.edu/ml/index.php). This dataset contains\n",
        "information about people from a 1994 Census database, including age, education,\n",
        "marital status, occupation, and whether they make more than $50,000 a year."
      ]
    },
    {
      "cell_type": "markdown",
      "metadata": {
        "id": "Su2qu-4CW-YH"
      },
      "source": [
        "### Objective\n",
        "\n",
        "The goal is to train a deep neural network (DNN) using Keras that predicts\n",
        "whether a person makes more than $50,000 a year (target label) based on other\n",
        "Census information about the person (features).\n",
        "\n",
        "This tutorial focuses more on using this model with AI Platform than on\n",
        "the design of the model itself. However, it's always important to think about\n",
        "potential problems and unintended consequences when building machine learning\n",
        "systems. See the [Machine Learning Crash Course exercise about\n",
        "fairness](https://developers.google.com/machine-learning/crash-course/fairness/programming-exercise)\n",
        "to learn about sources of bias in the Census dataset, as well as machine\n",
        "learning fairness more generally."
      ]
    },
    {
      "cell_type": "markdown",
      "metadata": {
        "id": "912RD_3fxGeH"
      },
      "source": [
        "### Costs\n",
        "\n",
        "This tutorial uses billable components of Google Cloud Platform (GCP):\n",
        "\n",
        "* AI Platform\n",
        "* Cloud Storage\n",
        "\n",
        "Learn about [AI Platform\n",
        "pricing](https://cloud.google.com/ml-engine/docs/pricing) and [Cloud Storage\n",
        "pricing](https://cloud.google.com/storage/pricing), and use the [Pricing\n",
        "Calculator](https://cloud.google.com/products/calculator/)\n",
        "to generate a cost estimate based on your projected usage."
      ]
    },
    {
      "cell_type": "markdown",
      "metadata": {
        "id": "rgLXkyHEvTVD"
      },
      "source": [
        "## Before you begin\n",
        "\n",
        "You must do several things before you can train and deploy a model in\n",
        "AI Platform:\n",
        "\n",
        "* Set up your local development environment.\n",
        "* Set up a GCP project with billing and the necessary\n",
        "  APIs enabled.\n",
        "* Authenticate your GCP account in this notebook.\n",
        "* Create a Cloud Storage bucket to store your training package and your\n",
        "  trained model.\n"
      ]
    },
    {
      "cell_type": "markdown",
      "metadata": {
        "id": "avDUUQEGTnUo"
      },
      "source": [
        "### Set up your local development environment\n",
        "\n",
        "**If you are using Colab or AI Platform Notebooks**, your environment already meets\n",
        "all the requirements to run this notebook. You can skip this step."
      ]
    },
    {
      "cell_type": "code",
      "metadata": {
        "id": "MTY1NBxLveJY"
      },
      "source": [
        ""
      ],
      "execution_count": 1,
      "outputs": []
    },
    {
      "cell_type": "markdown",
      "metadata": {
        "id": "1y4JdKCcTjgJ"
      },
      "source": [
        "**Otherwise**, make sure your environment meets this notebook's requirements.\n",
        "You need the following:\n",
        "\n",
        "* The Google Cloud SDK\n",
        "* Git\n",
        "* Python 3\n",
        "* virtualenv\n",
        "* Jupyter notebook running in a virtual environment with Python 3\n",
        "\n",
        "The Google Cloud guide to [Setting up a Python development\n",
        "environment](https://cloud.google.com/python/setup) and the [Jupyter\n",
        "installation guide](https://jupyter.org/install) provide detailed instructions\n",
        "for meeting these requirements. The following steps provide a condensed set of\n",
        "instructions:\n",
        "\n",
        "1. [Install and initialize the Cloud SDK.](https://cloud.google.com/sdk/docs/)\n",
        "\n",
        "2. [Install Python 3.](https://cloud.google.com/python/setup#installing_python)\n",
        "\n",
        "3. [Install\n",
        "   virtualenv](https://cloud.google.com/python/setup#installing_and_using_virtualenv)\n",
        "   and create a virtual environment that uses Python 3.\n",
        "\n",
        "4. Activate that environment and run `pip install jupyter` in a shell to install\n",
        "   Jupyter.\n",
        "\n",
        "5. Run `jupyter notebook` in a shell to launch Jupyter.\n",
        "\n",
        "6. Open this notebook in the Jupyter Notebook Dashboard."
      ]
    },
    {
      "cell_type": "code",
      "metadata": {
        "id": "YsdrGb9Pva-N"
      },
      "source": [
        ""
      ],
      "execution_count": 1,
      "outputs": []
    },
    {
      "cell_type": "markdown",
      "metadata": {
        "id": "i2qsxysTVc-l"
      },
      "source": [
        "### Set up your GCP project\n",
        "\n",
        "**The following steps are required, regardless of your notebook environment.**\n",
        "\n",
        "1. [Select or create a GCP project.](https://console.cloud.google.com/cloud-resource-manager)\n",
        "\n",
        "2. [Make sure that billing is enabled for your project.](https://cloud.google.com/billing/docs/how-to/modify-project)\n",
        "\n",
        "3. [Enable the AI Platform (\"Cloud Machine Learning Engine\") and Compute Engine APIs.](https://console.cloud.google.com/flows/enableapi?apiid=ml.googleapis.com,compute_component)\n",
        "\n",
        "4. Enter your project ID in the cell below. Then run the  cell to make sure the\n",
        "Cloud SDK uses the right project for all the commands in this notebook.\n",
        "\n",
        "**Note**: Jupyter runs lines prefixed with `!` as shell commands, and it interpolates Python variables prefixed with `$` into these commands."
      ]
    },
    {
      "cell_type": "code",
      "metadata": {
        "id": "4qxwBA4RM9Lu",
        "colab": {
          "base_uri": "https://localhost:8080/"
        },
        "outputId": "ae3027a9-be89-4c43-9700-72bc84db55c6"
      },
      "source": [
        "PROJECT_ID = \"<your-project-id>\" #@param {type:\"string\"}\n",
        "! gcloud config set project $PROJECT_ID"
      ],
      "execution_count": 2,
      "outputs": [
        {
          "output_type": "stream",
          "text": [
            "/bin/bash: -c: line 0: syntax error near unexpected token `newline'\n",
            "/bin/bash: -c: line 0: ` gcloud config set project <your-project-id>'\n"
          ],
          "name": "stdout"
        }
      ]
    },
    {
      "cell_type": "markdown",
      "metadata": {
        "id": "TSy-f05IO4LB"
      },
      "source": [
        "### Authenticate your GCP account\n",
        "\n",
        "**If you are using AI Platform Notebooks**, your environment is already\n",
        "authenticated. Skip this step."
      ]
    },
    {
      "cell_type": "markdown",
      "metadata": {
        "id": "fZQUrHdXNJnk"
      },
      "source": [
        "**If you are using Colab**, run the cell below and follow the instructions\n",
        "when prompted to authenticate your account via oAuth.\n",
        "\n",
        "**Otherwise**, follow these steps:\n",
        "\n",
        "1. In the GCP Console, go to the [**Create service account key**\n",
        "   page](https://console.cloud.google.com/apis/credentials/serviceaccountkey).\n",
        "\n",
        "2. From the **Service account** drop-down list, select **New service account**.\n",
        "\n",
        "3. In the **Service account name** field, enter a name.\n",
        "\n",
        "4. From the **Role** drop-down list, select\n",
        "   **Machine Learning Engine > AI Platform Admin** and\n",
        "   **Storage > Storage Object Admin**.\n",
        "\n",
        "5. Click *Create*. A JSON file that contains your key downloads to your\n",
        "local environment.\n",
        "\n",
        "6. Enter the path to your service account key as the\n",
        "`GOOGLE_APPLICATION_CREDENTIALS` variable in the cell below and run the cell."
      ]
    },
    {
      "cell_type": "code",
      "metadata": {
        "id": "W9i6oektpgld"
      },
      "source": [
        "import sys\n",
        "\n",
        "# If you are running this notebook in Colab, run this cell and follow the\n",
        "# instructions to authenticate your GCP account. This provides access to your\n",
        "# Cloud Storage bucket and lets you submit training jobs and prediction\n",
        "# requests.\n",
        "\n",
        "if 'google.colab' in sys.modules:\n",
        "  from google.colab import auth as google_auth\n",
        "  google_auth.authenticate_user()\n",
        "\n",
        "# If you are running this notebook locally, replace the string below with the\n",
        "# path to your service account key and run this cell to authenticate your GCP\n",
        "# account.\n",
        "else:\n",
        "  %env GOOGLE_APPLICATION_CREDENTIALS ''\n"
      ],
      "execution_count": 3,
      "outputs": []
    },
    {
      "cell_type": "code",
      "metadata": {
        "id": "nWwV2yXRsgWs",
        "colab": {
          "base_uri": "https://localhost:8080/",
          "height": 265
        },
        "outputId": "953f5e8a-6110-4f03-89b5-6f0dc726deba"
      },
      "source": [
        "\"\"\"\n",
        "==========\n",
        "Agg Buffer\n",
        "==========\n",
        "\n",
        "Use backend agg to access the figure canvas as an RGBA buffer, convert it to an\n",
        "array, and pass it to Pillow for rendering.\n",
        "\"\"\"\n",
        "\n",
        "import numpy as np\n",
        "\n",
        "from matplotlib.backends.backend_agg import FigureCanvasAgg\n",
        "import matplotlib.pyplot as plt\n",
        "\n",
        "plt.plot([1, 2, 3])\n",
        "\n",
        "canvas = plt.gcf().canvas\n",
        "\n",
        "agg = canvas.switch_backends(FigureCanvasAgg)\n",
        "agg.draw()\n",
        "X = np.asarray(agg.buffer_rgba())\n",
        "\n",
        "# Pass off to PIL.\n",
        "from PIL import Image\n",
        "im = Image.fromarray(X)\n",
        "\n",
        "# Uncomment this line to display the image using ImageMagick's `display` tool.\n",
        "# im.show()\n"
      ],
      "execution_count": 4,
      "outputs": [
        {
          "output_type": "display_data",
          "data": {
            "image/png": "[encoded data removed]",
            "text/plain": [
              "<Figure size 432x288 with 1 Axes>"
            ]
          },
          "metadata": {
            "tags": [],
            "needs_background": "light"
          }
        }
      ]
    },
    {
      "cell_type": "markdown",
      "metadata": {
        "id": "OMAhcr9o9PmO"
      },
      "source": [
        ""
      ]
    },
    {
      "cell_type": "markdown",
      "metadata": {
        "id": "HFyFbTiH9P7l"
      },
      "source": [
        ""
      ]
    },
    {
      "cell_type": "markdown",
      "metadata": {
        "id": "tT061irlJwkg"
      },
      "source": [
        "### Create a Cloud Storage bucket\n",
        "\n",
        "**The following steps are required, regardless of your notebook environment.**\n",
        "\n",
        "When you submit a training job using the Cloud SDK, you upload a Python package\n",
        "containing your training code to a Cloud Storage bucket. AI Platform runs\n",
        "the code from this package. In this tutorial, AI Platform also saves the\n",
        "trained model that results from your job in the same bucket. You can then\n",
        "create an AI Platform model version based on this output in order to serve\n",
        "online predictions.\n",
        "\n",
        "Set the name of your Cloud Storage bucket below. It must be unique across all\n",
        "Cloud Storage buckets. \n",
        "\n",
        "You may also change the `REGION` variable, which is used for operations\n",
        "throughout the rest of this notebook. Make sure to [choose a region where Cloud\n",
        "AI Platform services are\n",
        "available](https://cloud.google.com/ml-engine/docs/tensorflow/regions)."
      ]
    },
    {
      "cell_type": "code",
      "metadata": {
        "id": "bTxmbDg1I0x1"
      },
      "source": [
        "BUCKET_NAME = \"bustling-kayak-316501\" #@param {type:\"string\"}\n",
        "REGION = \"bustling-kayak-316501\" #@param {type:\"string\"}"
      ],
      "execution_count": 5,
      "outputs": []
    },
    {
      "cell_type": "code",
      "metadata": {
        "id": "LaAjmZkgqItB",
        "colab": {
          "base_uri": "https://localhost:8080/"
        },
        "outputId": "3421ecba-6c99-4e80-9a4f-015f340d3a69"
      },
      "source": [
        "from google.colab import drive\n",
        "drive.mount('/content/drive')"
      ],
      "execution_count": 6,
      "outputs": [
        {
          "output_type": "stream",
          "text": [
            "Mounted at /content/drive\n"
          ],
          "name": "stdout"
        }
      ]
    },
    {
      "cell_type": "markdown",
      "metadata": {
        "id": "fsmCk2dwJnLZ"
      },
      "source": [
        "**Only if your bucket doesn't already exist**: Run the following cell to create your Cloud Storage bucket."
      ]
    },
    {
      "cell_type": "code",
      "metadata": {
        "id": "160PRO3aJqLD",
        "colab": {
          "base_uri": "https://localhost:8080/"
        },
        "outputId": "68180af6-3d46-4ae5-eb16-70fa44a32da8"
      },
      "source": [
        "! gsutil mb -l $REGION gs://$BUCKET_NAME"
      ],
      "execution_count": 7,
      "outputs": [
        {
          "output_type": "stream",
          "text": [
            "Creating gs://bustling-kayak-316501/...\n",
            "You are attempting to perform an operation that requires a project id, with none configured. Please re-run gsutil config and make sure to follow the instructions for finding and entering your default project id.\n"
          ],
          "name": "stdout"
        }
      ]
    },
    {
      "cell_type": "markdown",
      "metadata": {
        "id": "iTc8RvKlSjIG"
      },
      "source": [
        "Finally, validate access to your Cloud Storage bucket by examining its contents:\n"
      ]
    },
    {
      "cell_type": "code",
      "metadata": {
        "id": "OsB4T3sbSb2d",
        "colab": {
          "base_uri": "https://localhost:8080/"
        },
        "outputId": "c0a33ad4-c29f-4b8d-ce19-a315190a45f9"
      },
      "source": [
        "! gsutil ls -al gs://$BUCKET_NAME"
      ],
      "execution_count": 8,
      "outputs": [
        {
          "output_type": "stream",
          "text": [
            "BucketNotFoundException: 404 gs://bustling-kayak-316501 bucket does not exist.\n"
          ],
          "name": "stdout"
        }
      ]
    },
    {
      "cell_type": "markdown",
      "metadata": {
        "id": "aRVMEU2Qshm4"
      },
      "source": [
        "## Part 1. Quickstart for training in AI Platform\n",
        "\n",
        "This section of the tutorial walks you through submitting a training job to Cloud\n",
        "AI Platform. This job runs sample code that uses Keras to train a deep neural\n",
        "network on the United States Census data. It outputs the trained model as a\n",
        "[TensorFlow SavedModel\n",
        "directory](https://www.tensorflow.org/guide/saved_model#save_and_restore_models)\n",
        "in your Cloud Storage bucket.\n"
      ]
    },
    {
      "cell_type": "markdown",
      "metadata": {
        "id": "8zr6lj66UlMn"
      },
      "source": [
        "### Get training code and dependencies\n",
        "\n",
        "First, download the training code and change the notebook's working directory:"
      ]
    },
    {
      "cell_type": "code",
      "metadata": {
        "id": "Icz22E69smnD",
        "colab": {
          "base_uri": "https://localhost:8080/"
        },
        "outputId": "dbb413a1-4930-4411-d22b-c09f0b8120ad"
      },
      "source": [
        "# Clone the repository of AI Platform samples\n",
        "! git clone --depth 1 https://github.com/GoogleCloudPlatform/cloudml-samples\n",
        "\n",
        "# Set the working directory to the sample code directory\n",
        "%cd cloudml-samples/census/tf-keras"
      ],
      "execution_count": 9,
      "outputs": [
        {
          "output_type": "stream",
          "text": [
            "Cloning into 'cloudml-samples'...\n",
            "remote: Enumerating objects: 596, done.\u001b[K\n",
            "remote: Counting objects: 100% (596/596), done.\u001b[K\n",
            "remote: Compressing objects: 100% (461/461), done.\u001b[K\n",
            "remote: Total 596 (delta 163), reused 327 (delta 87), pack-reused 0\u001b[K\n",
            "Receiving objects: 100% (596/596), 23.26 MiB | 23.17 MiB/s, done.\n",
            "Resolving deltas: 100% (163/163), done.\n",
            "/content/cloudml-samples/census/tf-keras\n"
          ],
          "name": "stdout"
        }
      ]
    },
    {
      "cell_type": "markdown",
      "metadata": {
        "id": "MhubJDDXSVv3"
      },
      "source": [
        "Notice that the training code is structured as a Python package in the\n",
        "`trainer/` subdirectory:"
      ]
    },
    {
      "cell_type": "code",
      "metadata": {
        "id": "uZ_nfuPJlNpi",
        "colab": {
          "base_uri": "https://localhost:8080/"
        },
        "outputId": "eceee101-722f-486c-dfb7-961b1b194dee"
      },
      "source": [
        "# `ls` shows the working directory's contents. The `p` flag adds trailing \n",
        "# slashes to subdirectory names. The `R` flag lists subdirectories recursively.\n",
        "! ls -pR"
      ],
      "execution_count": 10,
      "outputs": [
        {
          "output_type": "stream",
          "text": [
            ".:\n",
            "hptuning_config.yaml  README.md  requirements.txt  scripts/  trainer/\n",
            "\n",
            "./scripts:\n",
            "train-local.sh\n",
            "\n",
            "./trainer:\n",
            "__init__.py  model.py  task.py\tutil.py\n"
          ],
          "name": "stdout"
        }
      ]
    },
    {
      "cell_type": "markdown",
      "metadata": {
        "id": "7KA87o4HUhby"
      },
      "source": [
        "Run the following cell to install Python dependencies needed to train the model locally. When you run the training job in AI Platform,\n",
        "dependencies are preinstalled based on the [runtime\n",
        "version](https://cloud.google.com/ml-engine/docs/tensorflow/runtime-version-list)\n",
        "you choose."
      ]
    },
    {
      "cell_type": "code",
      "metadata": {
        "id": "Wm5w1UrmVU7O",
        "colab": {
          "base_uri": "https://localhost:8080/"
        },
        "outputId": "577b3cae-a2c3-4f20-fc38-2d8fa9549620"
      },
      "source": [
        "! pip install -r requirements.txt"
      ],
      "execution_count": 11,
      "outputs": [
        {
          "output_type": "stream",
          "text": [
            "Requirement already satisfied: numpy>=1.14 in /usr/local/lib/python3.7/dist-packages (from -r requirements.txt (line 1)) (1.19.5)\n",
            "Requirement already satisfied: pandas>=0.22 in /usr/local/lib/python3.7/dist-packages (from -r requirements.txt (line 2)) (1.1.5)\n",
            "Requirement already satisfied: six>=1.11 in /usr/local/lib/python3.7/dist-packages (from -r requirements.txt (line 3)) (1.15.0)\n",
            "Collecting tensorflow<2,>=1.15\n",
            "\u001b[?25l  Downloading https://files.pythonhosted.org/packages/9a/51/99abd43185d94adaaaddf8f44a80c418a91977924a7bc39b8dacd0c495b0/tensorflow-1.15.5-cp37-cp37m-manylinux2010_x86_64.whl (110.5MB)\n",
            "\u001b[K     |████████████████████████████████| 110.5MB 56kB/s \n",
            "\u001b[?25hRequirement already satisfied: pytz>=2017.2 in /usr/local/lib/python3.7/dist-packages (from pandas>=0.22->-r requirements.txt (line 2)) (2018.9)\n",
            "Requirement already satisfied: python-dateutil>=2.7.3 in /usr/local/lib/python3.7/dist-packages (from pandas>=0.22->-r requirements.txt (line 2)) (2.8.1)\n",
            "Collecting keras-applications>=1.0.8\n",
            "\u001b[?25l  Downloading https://files.pythonhosted.org/packages/71/e3/19762fdfc62877ae9102edf6342d71b28fbfd9dea3d2f96a882ce099b03f/Keras_Applications-1.0.8-py3-none-any.whl (50kB)\n",
            "\u001b[K     |████████████████████████████████| 51kB 8.6MB/s \n",
            "\u001b[?25hRequirement already satisfied: grpcio>=1.8.6 in /usr/local/lib/python3.7/dist-packages (from tensorflow<2,>=1.15->-r requirements.txt (line 4)) (1.34.1)\n",
            "Collecting gast==0.2.2\n",
            "  Downloading https://files.pythonhosted.org/packages/4e/35/11749bf99b2d4e3cceb4d55ca22590b0d7c2c62b9de38ac4a4a7f4687421/gast-0.2.2.tar.gz\n",
            "Collecting h5py<=2.10.0\n",
            "\u001b[?25l  Downloading https://files.pythonhosted.org/packages/3f/c0/abde58b837e066bca19a3f7332d9d0493521d7dd6b48248451a9e3fe2214/h5py-2.10.0-cp37-cp37m-manylinux1_x86_64.whl (2.9MB)\n",
            "\u001b[K     |████████████████████████████████| 2.9MB 41.6MB/s \n",
            "\u001b[?25hCollecting tensorflow-estimator==1.15.1\n",
            "\u001b[?25l  Downloading https://files.pythonhosted.org/packages/de/62/2ee9cd74c9fa2fa450877847ba560b260f5d0fb70ee0595203082dafcc9d/tensorflow_estimator-1.15.1-py2.py3-none-any.whl (503kB)\n",
            "\u001b[K     |████████████████████████████████| 512kB 38.1MB/s \n",
            "\u001b[?25hRequirement already satisfied: keras-preprocessing>=1.0.5 in /usr/local/lib/python3.7/dist-packages (from tensorflow<2,>=1.15->-r requirements.txt (line 4)) (1.1.2)\n",
            "Requirement already satisfied: opt-einsum>=2.3.2 in /usr/local/lib/python3.7/dist-packages (from tensorflow<2,>=1.15->-r requirements.txt (line 4)) (3.3.0)\n",
            "Requirement already satisfied: wheel>=0.26; python_version >= \"3\" in /usr/local/lib/python3.7/dist-packages (from tensorflow<2,>=1.15->-r requirements.txt (line 4)) (0.36.2)\n",
            "Requirement already satisfied: wrapt>=1.11.1 in /usr/local/lib/python3.7/dist-packages (from tensorflow<2,>=1.15->-r requirements.txt (line 4)) (1.12.1)\n",
            "Requirement already satisfied: astor>=0.6.0 in /usr/local/lib/python3.7/dist-packages (from tensorflow<2,>=1.15->-r requirements.txt (line 4)) (0.8.1)\n",
            "Requirement already satisfied: protobuf>=3.6.1 in /usr/local/lib/python3.7/dist-packages (from tensorflow<2,>=1.15->-r requirements.txt (line 4)) (3.12.4)\n",
            "Requirement already satisfied: absl-py>=0.7.0 in /usr/local/lib/python3.7/dist-packages (from tensorflow<2,>=1.15->-r requirements.txt (line 4)) (0.12.0)\n",
            "Requirement already satisfied: termcolor>=1.1.0 in /usr/local/lib/python3.7/dist-packages (from tensorflow<2,>=1.15->-r requirements.txt (line 4)) (1.1.0)\n",
            "Collecting tensorboard<1.16.0,>=1.15.0\n",
            "\u001b[?25l  Downloading https://files.pythonhosted.org/packages/1e/e9/d3d747a97f7188f48aa5eda486907f3b345cd409f0a0850468ba867db246/tensorboard-1.15.0-py3-none-any.whl (3.8MB)\n",
            "\u001b[K     |████████████████████████████████| 3.8MB 38.8MB/s \n",
            "\u001b[?25hRequirement already satisfied: google-pasta>=0.1.6 in /usr/local/lib/python3.7/dist-packages (from tensorflow<2,>=1.15->-r requirements.txt (line 4)) (0.2.0)\n",
            "Requirement already satisfied: setuptools in /usr/local/lib/python3.7/dist-packages (from protobuf>=3.6.1->tensorflow<2,>=1.15->-r requirements.txt (line 4)) (57.0.0)\n",
            "Requirement already satisfied: werkzeug>=0.11.15 in /usr/local/lib/python3.7/dist-packages (from tensorboard<1.16.0,>=1.15.0->tensorflow<2,>=1.15->-r requirements.txt (line 4)) (1.0.1)\n",
            "Requirement already satisfied: markdown>=2.6.8 in /usr/local/lib/python3.7/dist-packages (from tensorboard<1.16.0,>=1.15.0->tensorflow<2,>=1.15->-r requirements.txt (line 4)) (3.3.4)\n",
            "Requirement already satisfied: importlib-metadata; python_version < \"3.8\" in /usr/local/lib/python3.7/dist-packages (from markdown>=2.6.8->tensorboard<1.16.0,>=1.15.0->tensorflow<2,>=1.15->-r requirements.txt (line 4)) (4.5.0)\n",
            "Requirement already satisfied: zipp>=0.5 in /usr/local/lib/python3.7/dist-packages (from importlib-metadata; python_version < \"3.8\"->markdown>=2.6.8->tensorboard<1.16.0,>=1.15.0->tensorflow<2,>=1.15->-r requirements.txt (line 4)) (3.4.1)\n",
            "Requirement already satisfied: typing-extensions>=3.6.4; python_version < \"3.8\" in /usr/local/lib/python3.7/dist-packages (from importlib-metadata; python_version < \"3.8\"->markdown>=2.6.8->tensorboard<1.16.0,>=1.15.0->tensorflow<2,>=1.15->-r requirements.txt (line 4)) (3.7.4.3)\n",
            "Building wheels for collected packages: gast\n",
            "  Building wheel for gast (setup.py) ... \u001b[?25l\u001b[?25hdone\n",
            "  Created wheel for gast: filename=gast-0.2.2-cp37-none-any.whl size=7557 sha256=b4cadea48ae03cbd98fa936e9d51e947371455a00e943c16b57953b495337030\n",
            "  Stored in directory: /root/.cache/pip/wheels/5c/2e/7e/a1d4d4fcebe6c381f378ce7743a3ced3699feb89bcfbdadadd\n",
            "Successfully built gast\n",
            "\u001b[31mERROR: tensorflow 1.15.5 has requirement numpy<1.19.0,>=1.16.0, but you'll have numpy 1.19.5 which is incompatible.\u001b[0m\n",
            "\u001b[31mERROR: tensorflow-probability 0.12.1 has requirement gast>=0.3.2, but you'll have gast 0.2.2 which is incompatible.\u001b[0m\n",
            "\u001b[31mERROR: kapre 0.3.5 has requirement tensorflow>=2.0.0, but you'll have tensorflow 1.15.5 which is incompatible.\u001b[0m\n",
            "Installing collected packages: h5py, keras-applications, gast, tensorflow-estimator, tensorboard, tensorflow\n",
            "  Found existing installation: h5py 3.1.0\n",
            "    Uninstalling h5py-3.1.0:\n",
            "      Successfully uninstalled h5py-3.1.0\n",
            "  Found existing installation: gast 0.4.0\n",
            "    Uninstalling gast-0.4.0:\n",
            "      Successfully uninstalled gast-0.4.0\n",
            "  Found existing installation: tensorflow-estimator 2.5.0\n",
            "    Uninstalling tensorflow-estimator-2.5.0:\n",
            "      Successfully uninstalled tensorflow-estimator-2.5.0\n",
            "  Found existing installation: tensorboard 2.5.0\n",
            "    Uninstalling tensorboard-2.5.0:\n",
            "      Successfully uninstalled tensorboard-2.5.0\n",
            "  Found existing installation: tensorflow 2.5.0\n",
            "    Uninstalling tensorflow-2.5.0:\n",
            "      Successfully uninstalled tensorflow-2.5.0\n",
            "Successfully installed gast-0.2.2 h5py-2.10.0 keras-applications-1.0.8 tensorboard-1.15.0 tensorflow-1.15.5 tensorflow-estimator-1.15.1\n"
          ],
          "name": "stdout"
        }
      ]
    },
    {
      "cell_type": "markdown",
      "metadata": {
        "id": "iSrzwuchvcgv"
      },
      "source": [
        "### Train your model locally\n",
        "\n",
        "Before training on AI Platform, train the job locally to verify the file\n",
        "structure and packaging is correct.\n",
        "\n",
        "For a complex or resource-intensive job, you\n",
        "may want to train locally on a small sample of your dataset to verify your code.\n",
        "Then you can run the job on AI Platform to train on the whole dataset.\n",
        "\n",
        "This sample runs a relatively quick job on a small dataset, so the local\n",
        "training and the AI Platform job run the same code on the same data.\n",
        "\n",
        "Run the following cell to train a model locally:"
      ]
    },
    {
      "cell_type": "code",
      "metadata": {
        "id": "D5PIljnYveDN",
        "colab": {
          "base_uri": "https://localhost:8080/"
        },
        "outputId": "12f3363b-b4a7-4bd3-db2f-9eef6f56dedc"
      },
      "source": [
        "# Explicitly tell `gcloud ai-platform local train` to use Python 3 \n",
        "! gcloud config set ml_engine/local_python $(which python3)\n",
        "\n",
        "# This is similar to `python -m trainer.task --job-dir local-training-output`\n",
        "# but it better replicates the AI Platform environment, especially for\n",
        "# distributed training (not applicable here).\n",
        "! gcloud ai-platform local train \\\n",
        "  --package-path trainer \\\n",
        "  --module-name trainer.task \\\n",
        "  --job-dir local-training-output"
      ],
      "execution_count": 12,
      "outputs": [
        {
          "output_type": "stream",
          "text": [
            "Updated property [ml_engine/local_python].\n",
            "WARNING:tensorflow:From /usr/local/lib/python3.7/dist-packages/tensorflow_core/python/keras/initializers.py:119: calling RandomUniform.__init__ (from tensorflow.python.ops.init_ops) with dtype is deprecated and will be removed in a future version.\n",
            "Instructions for updating:\n",
            "Call initializer instance with the dtype argument instead of passing it to the constructor\n",
            "WARNING:tensorflow:From /usr/local/lib/python3.7/dist-packages/tensorflow_core/python/ops/resource_variable_ops.py:1630: calling BaseResourceVariable.__init__ (from tensorflow.python.ops.resource_variable_ops) with constraint is deprecated and will be removed in a future version.\n",
            "Instructions for updating:\n",
            "If using Keras pass *_constraint arguments to layers.\n",
            "WARNING:tensorflow:From /usr/local/lib/python3.7/dist-packages/tensorflow_core/python/ops/nn_impl.py:183: where (from tensorflow.python.ops.array_ops) is deprecated and will be removed in a future version.\n",
            "Instructions for updating:\n",
            "Use tf.where in 2.0, which has the same broadcast rule as np.where\n",
            "2021-06-25 02:42:08.933702: I tensorflow/core/platform/cpu_feature_guard.cc:142] Your CPU supports instructions that this TensorFlow binary was not compiled to use: AVX2 AVX512F FMA\n",
            "2021-06-25 02:42:08.937067: I tensorflow/core/platform/profile_utils/cpu_utils.cc:94] CPU Frequency: 2000179999 Hz\n",
            "2021-06-25 02:42:08.937291: I tensorflow/compiler/xla/service/service.cc:168] XLA service 0x55ec9e54c840 initialized for platform Host (this does not guarantee that XLA will be used). Devices:\n",
            "2021-06-25 02:42:08.937321: I tensorflow/compiler/xla/service/service.cc:176]   StreamExecutor device (0): Host, Default Version\n",
            "Train on 254 steps, validate on 1 steps\n",
            "\n",
            "Epoch 00001: LearningRateScheduler reducing learning rate to 0.02.\n",
            "Epoch 1/20\n",
            "2021-06-25 02:42:09.521105: I tensorflow/core/profiler/lib/profiler_session.cc:205] Profiler session started.\n",
            "254/254 [==============================] - 1s 3ms/step - loss: 0.4946 - acc: 0.7865 - val_loss: 0.3606 - val_acc: 0.8352\n",
            "\n",
            "Epoch 00002: LearningRateScheduler reducing learning rate to 0.015.\n",
            "Epoch 2/20\n",
            "254/254 [==============================] - 1s 2ms/step - loss: 0.3574 - acc: 0.8350 - val_loss: 0.3581 - val_acc: 0.8287\n",
            "\n",
            "Epoch 00003: LearningRateScheduler reducing learning rate to 0.0125.\n",
            "Epoch 3/20\n",
            "254/254 [==============================] - 1s 2ms/step - loss: 0.3394 - acc: 0.8415 - val_loss: 0.3285 - val_acc: 0.8427\n",
            "\n",
            "Epoch 00004: LearningRateScheduler reducing learning rate to 0.01125.\n",
            "Epoch 4/20\n",
            "254/254 [==============================] - 1s 2ms/step - loss: 0.3347 - acc: 0.8455 - val_loss: 0.3290 - val_acc: 0.8488\n",
            "\n",
            "Epoch 00005: LearningRateScheduler reducing learning rate to 0.010625.\n",
            "Epoch 5/20\n",
            "254/254 [==============================] - 1s 2ms/step - loss: 0.3316 - acc: 0.8469 - val_loss: 0.3214 - val_acc: 0.8502\n",
            "\n",
            "Epoch 00006: LearningRateScheduler reducing learning rate to 0.0103125.\n",
            "Epoch 6/20\n",
            "254/254 [==============================] - 1s 2ms/step - loss: 0.3313 - acc: 0.8475 - val_loss: 0.3226 - val_acc: 0.8482\n",
            "\n",
            "Epoch 00007: LearningRateScheduler reducing learning rate to 0.01015625.\n",
            "Epoch 7/20\n",
            "254/254 [==============================] - 1s 2ms/step - loss: 0.3279 - acc: 0.8488 - val_loss: 0.3266 - val_acc: 0.8473\n",
            "\n",
            "Epoch 00008: LearningRateScheduler reducing learning rate to 0.010078125.\n",
            "Epoch 8/20\n",
            "254/254 [==============================] - 1s 2ms/step - loss: 0.3268 - acc: 0.8489 - val_loss: 0.3253 - val_acc: 0.8484\n",
            "\n",
            "Epoch 00009: LearningRateScheduler reducing learning rate to 0.0100390625.\n",
            "Epoch 9/20\n",
            "254/254 [==============================] - 1s 2ms/step - loss: 0.3284 - acc: 0.8476 - val_loss: 0.3252 - val_acc: 0.8504\n",
            "\n",
            "Epoch 00010: LearningRateScheduler reducing learning rate to 0.01001953125.\n",
            "Epoch 10/20\n",
            "254/254 [==============================] - 1s 2ms/step - loss: 0.3243 - acc: 0.8494 - val_loss: 0.3258 - val_acc: 0.8521\n",
            "\n",
            "Epoch 00011: LearningRateScheduler reducing learning rate to 0.010009765625.\n",
            "Epoch 11/20\n",
            "254/254 [==============================] - 1s 2ms/step - loss: 0.3260 - acc: 0.8476 - val_loss: 0.3428 - val_acc: 0.8525\n",
            "\n",
            "Epoch 00012: LearningRateScheduler reducing learning rate to 0.010004882812500001.\n",
            "Epoch 12/20\n",
            "254/254 [==============================] - 1s 2ms/step - loss: 0.3244 - acc: 0.8497 - val_loss: 0.3291 - val_acc: 0.8483\n",
            "\n",
            "Epoch 00013: LearningRateScheduler reducing learning rate to 0.01000244140625.\n",
            "Epoch 13/20\n",
            "254/254 [==============================] - 1s 2ms/step - loss: 0.3245 - acc: 0.8489 - val_loss: 0.3275 - val_acc: 0.8495\n",
            "\n",
            "Epoch 00014: LearningRateScheduler reducing learning rate to 0.010001220703125.\n",
            "Epoch 14/20\n",
            "254/254 [==============================] - 1s 2ms/step - loss: 0.3247 - acc: 0.8496 - val_loss: 0.3397 - val_acc: 0.8527\n",
            "\n",
            "Epoch 00015: LearningRateScheduler reducing learning rate to 0.0100006103515625.\n",
            "Epoch 15/20\n",
            "254/254 [==============================] - 1s 2ms/step - loss: 0.3248 - acc: 0.8501 - val_loss: 0.3242 - val_acc: 0.8504\n",
            "\n",
            "Epoch 00016: LearningRateScheduler reducing learning rate to 0.01000030517578125.\n",
            "Epoch 16/20\n",
            "254/254 [==============================] - 1s 2ms/step - loss: 0.3215 - acc: 0.8506 - val_loss: 0.3273 - val_acc: 0.8512\n",
            "\n",
            "Epoch 00017: LearningRateScheduler reducing learning rate to 0.010000152587890625.\n",
            "Epoch 17/20\n",
            "254/254 [==============================] - 1s 2ms/step - loss: 0.3263 - acc: 0.8503 - val_loss: 0.3253 - val_acc: 0.8526\n",
            "\n",
            "Epoch 00018: LearningRateScheduler reducing learning rate to 0.010000076293945313.\n",
            "Epoch 18/20\n",
            "254/254 [==============================] - 1s 2ms/step - loss: 0.3225 - acc: 0.8510 - val_loss: 0.3503 - val_acc: 0.8467\n",
            "\n",
            "Epoch 00019: LearningRateScheduler reducing learning rate to 0.010000038146972657.\n",
            "Epoch 19/20\n",
            "254/254 [==============================] - 0s 2ms/step - loss: 0.3215 - acc: 0.8517 - val_loss: 0.3347 - val_acc: 0.8499\n",
            "\n",
            "Epoch 00020: LearningRateScheduler reducing learning rate to 0.010000019073486329.\n",
            "Epoch 20/20\n",
            "254/254 [==============================] - 0s 2ms/step - loss: 0.3210 - acc: 0.8501 - val_loss: 0.3308 - val_acc: 0.8417\n",
            "WARNING:tensorflow:From /content/cloudml-samples/census/tf-keras/trainer/task.py:123: export_saved_model (from tensorflow.python.keras.saving.saved_model_experimental) is deprecated and will be removed in a future version.\n",
            "Instructions for updating:\n",
            "Please use `model.save(..., save_format=\"tf\")` or `tf.keras.models.save_model(..., save_format=\"tf\")`.\n",
            "WARNING:tensorflow:From /usr/local/lib/python3.7/dist-packages/tensorflow_core/python/ops/init_ops.py:97: calling Zeros.__init__ (from tensorflow.python.ops.init_ops) with dtype is deprecated and will be removed in a future version.\n",
            "Instructions for updating:\n",
            "Call initializer instance with the dtype argument instead of passing it to the constructor\n",
            "WARNING:tensorflow:From /usr/local/lib/python3.7/dist-packages/tensorflow_core/python/ops/init_ops.py:97: calling GlorotUniform.__init__ (from tensorflow.python.ops.init_ops) with dtype is deprecated and will be removed in a future version.\n",
            "Instructions for updating:\n",
            "Call initializer instance with the dtype argument instead of passing it to the constructor\n",
            "WARNING:tensorflow:From /usr/local/lib/python3.7/dist-packages/tensorflow_core/python/saved_model/signature_def_utils_impl.py:253: build_tensor_info (from tensorflow.python.saved_model.utils_impl) is deprecated and will be removed in a future version.\n",
            "Instructions for updating:\n",
            "This function will only be available through the v1 compatibility library as tf.compat.v1.saved_model.utils.build_tensor_info or tf.compat.v1.saved_model.build_tensor_info.\n",
            "INFO:tensorflow:Signatures INCLUDED in export for Classify: None\n",
            "INFO:tensorflow:Signatures INCLUDED in export for Regress: None\n",
            "INFO:tensorflow:Signatures INCLUDED in export for Predict: None\n",
            "INFO:tensorflow:Signatures INCLUDED in export for Train: ['train']\n",
            "INFO:tensorflow:Signatures INCLUDED in export for Eval: None\n",
            "WARNING:tensorflow:Export includes no default signature!\n",
            "INFO:tensorflow:No assets to save.\n",
            "INFO:tensorflow:No assets to write.\n",
            "INFO:tensorflow:Signatures INCLUDED in export for Classify: None\n",
            "INFO:tensorflow:Signatures INCLUDED in export for Regress: None\n",
            "INFO:tensorflow:Signatures INCLUDED in export for Predict: None\n",
            "INFO:tensorflow:Signatures INCLUDED in export for Train: None\n",
            "INFO:tensorflow:Signatures INCLUDED in export for Eval: ['eval']\n",
            "WARNING:tensorflow:Export includes no default signature!\n",
            "INFO:tensorflow:No assets to save.\n",
            "INFO:tensorflow:No assets to write.\n",
            "INFO:tensorflow:Signatures INCLUDED in export for Classify: None\n",
            "INFO:tensorflow:Signatures INCLUDED in export for Regress: None\n",
            "INFO:tensorflow:Signatures INCLUDED in export for Predict: ['serving_default']\n",
            "INFO:tensorflow:Signatures INCLUDED in export for Train: None\n",
            "INFO:tensorflow:Signatures INCLUDED in export for Eval: None\n",
            "INFO:tensorflow:No assets to save.\n",
            "INFO:tensorflow:No assets to write.\n",
            "INFO:tensorflow:SavedModel written to: local-training-output/keras_export/saved_model.pb\n",
            "Model exported to: local-training-output/keras_export\n",
            "WARNING:tensorflow:Unresolved object in checkpoint: (root).optimizer.decay\n",
            "WARNING:tensorflow:Unresolved object in checkpoint: (root).optimizer.learning_rate\n",
            "WARNING:tensorflow:Unresolved object in checkpoint: (root).optimizer.momentum\n",
            "WARNING:tensorflow:Unresolved object in checkpoint: (root).optimizer.rho\n",
            "WARNING:tensorflow:Unresolved object in checkpoint: (root).optimizer's state 'rms' for (root).layer_with_weights-0.kernel\n",
            "WARNING:tensorflow:Unresolved object in checkpoint: (root).optimizer's state 'rms' for (root).layer_with_weights-0.bias\n",
            "WARNING:tensorflow:Unresolved object in checkpoint: (root).optimizer's state 'rms' for (root).layer_with_weights-1.kernel\n",
            "WARNING:tensorflow:Unresolved object in checkpoint: (root).optimizer's state 'rms' for (root).layer_with_weights-1.bias\n",
            "WARNING:tensorflow:Unresolved object in checkpoint: (root).optimizer's state 'rms' for (root).layer_with_weights-2.kernel\n",
            "WARNING:tensorflow:Unresolved object in checkpoint: (root).optimizer's state 'rms' for (root).layer_with_weights-2.bias\n",
            "WARNING:tensorflow:Unresolved object in checkpoint: (root).optimizer's state 'rms' for (root).layer_with_weights-3.kernel\n",
            "WARNING:tensorflow:Unresolved object in checkpoint: (root).optimizer's state 'rms' for (root).layer_with_weights-3.bias\n",
            "WARNING:tensorflow:Unresolved object in checkpoint: (root).optimizer's state 'rms' for (root).layer_with_weights-4.kernel\n",
            "WARNING:tensorflow:Unresolved object in checkpoint: (root).optimizer's state 'rms' for (root).layer_with_weights-4.bias\n",
            "WARNING:tensorflow:A checkpoint was restored (e.g. tf.train.Checkpoint.restore or tf.keras.Model.load_weights) but not all checkpointed values were used. See above for specific issues. Use expect_partial() on the load status object, e.g. tf.train.Checkpoint.restore(...).expect_partial(), to silence these warnings, or use assert_consumed() to make the check explicit. See https://www.tensorflow.org/alpha/guide/checkpoints#loading_mechanics for details.\n",
            "WARNING:tensorflow:Unresolved object in checkpoint: (root).optimizer\n",
            "WARNING:tensorflow:Unresolved object in checkpoint: (root).optimizer.iter\n",
            "WARNING:tensorflow:Unresolved object in checkpoint: (root).optimizer.decay\n",
            "WARNING:tensorflow:Unresolved object in checkpoint: (root).optimizer.learning_rate\n",
            "WARNING:tensorflow:Unresolved object in checkpoint: (root).optimizer.momentum\n",
            "WARNING:tensorflow:Unresolved object in checkpoint: (root).optimizer.rho\n",
            "WARNING:tensorflow:Unresolved object in checkpoint: (root).optimizer's state 'rms' for (root).layer_with_weights-0.kernel\n",
            "WARNING:tensorflow:Unresolved object in checkpoint: (root).optimizer's state 'rms' for (root).layer_with_weights-0.bias\n",
            "WARNING:tensorflow:Unresolved object in checkpoint: (root).optimizer's state 'rms' for (root).layer_with_weights-1.kernel\n",
            "WARNING:tensorflow:Unresolved object in checkpoint: (root).optimizer's state 'rms' for (root).layer_with_weights-1.bias\n",
            "WARNING:tensorflow:Unresolved object in checkpoint: (root).optimizer's state 'rms' for (root).layer_with_weights-2.kernel\n",
            "WARNING:tensorflow:Unresolved object in checkpoint: (root).optimizer's state 'rms' for (root).layer_with_weights-2.bias\n",
            "WARNING:tensorflow:Unresolved object in checkpoint: (root).optimizer's state 'rms' for (root).layer_with_weights-3.kernel\n",
            "WARNING:tensorflow:Unresolved object in checkpoint: (root).optimizer's state 'rms' for (root).layer_with_weights-3.bias\n",
            "WARNING:tensorflow:Unresolved object in checkpoint: (root).optimizer's state 'rms' for (root).layer_with_weights-4.kernel\n",
            "WARNING:tensorflow:Unresolved object in checkpoint: (root).optimizer's state 'rms' for (root).layer_with_weights-4.bias\n",
            "WARNING:tensorflow:A checkpoint was restored (e.g. tf.train.Checkpoint.restore or tf.keras.Model.load_weights) but not all checkpointed values were used. See above for specific issues. Use expect_partial() on the load status object, e.g. tf.train.Checkpoint.restore(...).expect_partial(), to silence these warnings, or use assert_consumed() to make the check explicit. See https://www.tensorflow.org/alpha/guide/checkpoints#loading_mechanics for details.\n"
          ],
          "name": "stdout"
        }
      ]
    },
    {
      "cell_type": "markdown",
      "metadata": {
        "id": "rAX4hZip53SR"
      },
      "source": [
        "### Train your model using AI Platform\n",
        "\n",
        "Next, submit a training job to AI Platform. This runs the training module\n",
        "in the cloud and exports the trained model to Cloud Storage.\n",
        "\n",
        "First, give your training job a name and choose a directory within your Cloud\n",
        "Storage bucket for saving intermediate and output files:"
      ]
    },
    {
      "cell_type": "code",
      "metadata": {
        "id": "05lDch9-0-2v"
      },
      "source": [
        "JOB_NAME = 'my_first_keras_job'\n",
        "JOB_DIR = 'gs://' + BUCKET_NAME + '/keras-job-dir'"
      ],
      "execution_count": 13,
      "outputs": []
    },
    {
      "cell_type": "code",
      "metadata": {
        "cellView": "both",
        "id": "qnMpW5Y9nv2l"
      },
      "source": [
        "# Copyright 2019 Google LLC\n",
        "#\n",
        "# Licensed under the Apache License, Version 2.0 (the \"License\");\n",
        "# you may not use this file except in compliance with the License.\n",
        "# You may obtain a copy of the License at\n",
        "#\n",
        "#     https://www.apache.org/licenses/LICENSE-2.0\n",
        "#\n",
        "# Unless required by applicable law or agreed to in writing, software\n",
        "# distributed under the License is distributed on an \"AS IS\" BASIS,\n",
        "# WITHOUT WARRANTIES OR CONDITIONS OF ANY KIND, either express or implied.\n",
        "# See the License for the specific language governing permissions and\n",
        "# limitations under the License."
      ],
      "execution_count": 14,
      "outputs": []
    },
    {
      "cell_type": "markdown",
      "metadata": {
        "id": "yp9nyrZ01a2q"
      },
      "source": [
        "Run the following command to package the `trainer/` directory, upload it to the\n",
        "specified `--job-dir`, and instruct AI Platform to run the\n",
        "`trainer.task` module from that package.\n",
        "\n",
        "The `--stream-logs` flag lets you view training logs in the cell below. You can\n",
        "also see logs and other job details in the GCP Console."
      ]
    },
    {
      "cell_type": "markdown",
      "metadata": {
        "id": "J2WGqwAzc3xM"
      },
      "source": [
        "### Hyperparameter tuning\n",
        "\n",
        "You can optionally perform hyperparameter tuning by using the included\n",
        "`hptuning_config.yaml` configuration file. This file tells AI Platform to tune the batch size and learning rate for training over multiple trials to maximize accuracy.\n",
        "\n",
        "In this example, the training code uses a [TensorBoard\n",
        "callback](https://www.tensorflow.org/api_docs/python/tf/keras/callbacks/TensorBoard),\n",
        "which [creates TensorFlow `Summary`\n",
        "`Event`s](https://www.tensorflow.org/api_docs/python/tf/summary/FileWriter#add_summary)\n",
        "during training. AI Platform uses these events to track the metric you want to\n",
        "optimize. Learn more about [hyperparameter tuning in\n",
        "AI Platform Training](https://cloud.google.com/ml-engine/docs/tensorflow/hyperparameter-tuning-overview)."
      ]
    },
    {
      "cell_type": "code",
      "metadata": {
        "id": "HvAJfHIsvsqb"
      },
      "source": [
        ""
      ],
      "execution_count": 14,
      "outputs": []
    },
    {
      "cell_type": "code",
      "metadata": {
        "id": "1haRe54v53CN",
        "colab": {
          "base_uri": "https://localhost:8080/"
        },
        "outputId": "d36a4ddd-81d1-49ad-e3bd-4f3cdcbb2903"
      },
      "source": [
        "! gcloud ai-platform jobs submit training $JOB_NAME \\\n",
        "  --package-path trainer/ \\\n",
        "  --module-name trainer.task \\\n",
        "  --region $REGION \\\n",
        "  --python-version 3.7 \\\n",
        "  --runtime-version 1.15 \\\n",
        "  --job-dir $JOB_DIR \\\n",
        "  --stream-logs"
      ],
      "execution_count": 15,
      "outputs": [
        {
          "output_type": "stream",
          "text": [
            "\u001b[1;31mERROR:\u001b[0m (gcloud.ai-platform.jobs.submit.training) Could not upload file: [bustling-kayak-316501] bucket does not exist.\n"
          ],
          "name": "stdout"
        }
      ]
    },
    {
      "cell_type": "markdown",
      "metadata": {
        "id": "gAO6-zv6osJ8"
      },
      "source": [
        "## Part 2. Quickstart for online predictions in AI Platform\n",
        "\n",
        "This section shows how to use AI Platform and your trained model from Part 1\n",
        "to predict a person's income bracket from other Census information about them."
      ]
    },
    {
      "cell_type": "markdown",
      "metadata": {
        "id": "Oi1xMGzLsjf_"
      },
      "source": [
        "### Create model and version resources in AI Platform\n",
        "\n",
        "To serve online predictions using the model you trained and exported in Part 1,\n",
        "create a *model* resource in AI Platform and a *version* resource\n",
        "within it. The version resource is what actually uses your trained model to\n",
        "serve predictions. This structure lets you adjust and retrain your model many times and\n",
        "organize all the versions together in AI Platform. Learn more about [models\n",
        "and\n",
        "versions](https://cloud.google.com/ml-engine/docs/tensorflow/projects-models-versions-jobs).\n",
        "\n",
        "First, name and create the model resource:"
      ]
    },
    {
      "cell_type": "code",
      "metadata": {
        "id": "SurMKEbBtc2W",
        "colab": {
          "base_uri": "https://localhost:8080/"
        },
        "outputId": "1cc37000-253e-4070-8df7-e64f18c44e39"
      },
      "source": [
        "MODEL_NAME = \"my_first_keras_model\"\n",
        "\n",
        "! gcloud ai-platform models create $MODEL_NAME \\\n",
        "  --regions $REGION"
      ],
      "execution_count": 16,
      "outputs": [
        {
          "output_type": "stream",
          "text": [
            "Using endpoint [https://ml.googleapis.com/]\n",
            "\u001b[1;31mERROR:\u001b[0m (gcloud.ai-platform.models.create) The required property [project] is not currently set.\n",
            "It can be set on a per-command basis by re-running your command with the [--project] flag.\n",
            "\n",
            "You may set it for your current workspace by running:\n",
            "\n",
            "  $ gcloud config set project VALUE\n",
            "\n",
            "or it can be set temporarily by the environment variable [CLOUDSDK_CORE_PROJECT]\n"
          ],
          "name": "stdout"
        }
      ]
    },
    {
      "cell_type": "markdown",
      "metadata": {
        "id": "c5YLJugmt-Wm"
      },
      "source": [
        "Next, create the model version. The training job from Part 1 exported a timestamped\n",
        "[TensorFlow SavedModel\n",
        "directory](https://www.tensorflow.org/guide/saved_model#structure_of_a_savedmodel_directory)\n",
        "to your Cloud Storage bucket. AI Platform uses this directory to create a\n",
        "model version. Learn more about [SavedModel and\n",
        "AI Platform](https://cloud.google.com/ml-engine/docs/tensorflow/deploying-models).\n",
        "\n",
        "You may be able to find the path to this directory in your training job's logs.\n",
        "Look for a line like:\n",
        "\n",
        "```\n",
        "Model exported to:  gs://<your-bucket-name>/keras-job-dir/keras_export/1545439782\n",
        "```\n",
        "\n",
        "Execute the following command to identify your SavedModel directory and use it to create a model version resource:"
      ]
    },
    {
      "cell_type": "code",
      "metadata": {
        "cellView": "both",
        "id": "NYfK78654CVm",
        "colab": {
          "base_uri": "https://localhost:8080/"
        },
        "outputId": "d4c8a0b3-932d-4d7e-f724-9551464b974b"
      },
      "source": [
        "MODEL_VERSION = \"v1\"\n",
        "\n",
        "# Get a list of directories in the `keras_export` parent directory\n",
        "KERAS_EXPORT_DIRS = ! gsutil ls $JOB_DIR/keras_export/\n",
        "\n",
        "# Pick the directory with the latest timestamp, in case you've trained\n",
        "# multiple times\n",
        "SAVED_MODEL_PATH = KERAS_EXPORT_DIRS[-1]\n",
        "\n",
        "# Create model version based on that SavedModel directory\n",
        "! gcloud ai-platform versions create $MODEL_VERSION \\\n",
        "  --model $MODEL_NAME \\\n",
        "  --runtime-version 1.15 \\\n",
        "  --python-version 3.7 \\\n",
        "  --framework tensorflow \\\n",
        "  --origin $SAVED_MODEL_PATH"
      ],
      "execution_count": 17,
      "outputs": [
        {
          "output_type": "stream",
          "text": [
            "\u001b[1;31mERROR:\u001b[0m (gcloud.ai-platform.versions.create) unrecognized arguments:\n",
            "  404\n",
            "  gs://bustling-kayak-316501\n",
            "  bucket\n",
            "  does\n",
            "  not\n",
            "  exist.\n",
            "  To search the help text of gcloud commands, run:\n",
            "  gcloud help -- SEARCH_TERMS\n"
          ],
          "name": "stdout"
        }
      ]
    },
    {
      "cell_type": "markdown",
      "metadata": {
        "id": "JzevJps9IOcU"
      },
      "source": [
        "### Prepare input for prediction\n",
        "\n",
        "To receive valid and useful predictions, you must preprocess input for prediction in the same way that training data was preprocessed. In a production\n",
        "system, you may want to create a preprocessing pipeline that can be used identically at training time and prediction time.\n",
        "\n",
        "For this exercise, use the training package's data-loading code to select a random sample from the evaluation data. This data is in the form that was used to evaluate accuracy after each epoch of training, so it can be used to send test predictions without further preprocessing:"
      ]
    },
    {
      "cell_type": "code",
      "metadata": {
        "id": "zuh7LWeWv_GT",
        "colab": {
          "base_uri": "https://localhost:8080/",
          "height": 689
        },
        "outputId": "f51c24c5-d2c9-4ad3-c805-029fd9f81edf"
      },
      "source": [
        "from trainer import util\n",
        "\n",
        "_, _, eval_x, eval_y = util.load_data()\n",
        "\n",
        "prediction_input = eval_x.sample(20)\n",
        "prediction_targets = eval_y[prediction_input.index]\n",
        "\n",
        "prediction_input"
      ],
      "execution_count": 18,
      "outputs": [
        {
          "output_type": "execute_result",
          "data": {
            "text/html": [
              "<div>\n",
              "<style scoped>\n",
              "    .dataframe tbody tr th:only-of-type {\n",
              "        vertical-align: middle;\n",
              "    }\n",
              "\n",
              "    .dataframe tbody tr th {\n",
              "        vertical-align: top;\n",
              "    }\n",
              "\n",
              "    .dataframe thead th {\n",
              "        text-align: right;\n",
              "    }\n",
              "</style>\n",
              "<table border=\"1\" class=\"dataframe\">\n",
              "  <thead>\n",
              "    <tr style=\"text-align: right;\">\n",
              "      <th></th>\n",
              "      <th>age</th>\n",
              "      <th>workclass</th>\n",
              "      <th>education_num</th>\n",
              "      <th>marital_status</th>\n",
              "      <th>occupation</th>\n",
              "      <th>relationship</th>\n",
              "      <th>race</th>\n",
              "      <th>capital_gain</th>\n",
              "      <th>capital_loss</th>\n",
              "      <th>hours_per_week</th>\n",
              "      <th>native_country</th>\n",
              "    </tr>\n",
              "  </thead>\n",
              "  <tbody>\n",
              "    <tr>\n",
              "      <th>11476</th>\n",
              "      <td>-0.776285</td>\n",
              "      <td>3</td>\n",
              "      <td>-0.030304</td>\n",
              "      <td>2</td>\n",
              "      <td>11</td>\n",
              "      <td>0</td>\n",
              "      <td>4</td>\n",
              "      <td>-0.144792</td>\n",
              "      <td>-0.217132</td>\n",
              "      <td>-0.034039</td>\n",
              "      <td>38</td>\n",
              "    </tr>\n",
              "    <tr>\n",
              "      <th>402</th>\n",
              "      <td>-1.578566</td>\n",
              "      <td>3</td>\n",
              "      <td>-1.197188</td>\n",
              "      <td>4</td>\n",
              "      <td>11</td>\n",
              "      <td>3</td>\n",
              "      <td>4</td>\n",
              "      <td>-0.144792</td>\n",
              "      <td>-0.217132</td>\n",
              "      <td>-1.244553</td>\n",
              "      <td>38</td>\n",
              "    </tr>\n",
              "    <tr>\n",
              "      <th>11873</th>\n",
              "      <td>2.359906</td>\n",
              "      <td>3</td>\n",
              "      <td>-2.364072</td>\n",
              "      <td>2</td>\n",
              "      <td>13</td>\n",
              "      <td>0</td>\n",
              "      <td>4</td>\n",
              "      <td>0.729310</td>\n",
              "      <td>-0.217132</td>\n",
              "      <td>-0.034039</td>\n",
              "      <td>38</td>\n",
              "    </tr>\n",
              "    <tr>\n",
              "      <th>9001</th>\n",
              "      <td>0.609474</td>\n",
              "      <td>5</td>\n",
              "      <td>1.136580</td>\n",
              "      <td>2</td>\n",
              "      <td>4</td>\n",
              "      <td>0</td>\n",
              "      <td>4</td>\n",
              "      <td>-0.144792</td>\n",
              "      <td>-0.217132</td>\n",
              "      <td>1.579979</td>\n",
              "      <td>38</td>\n",
              "    </tr>\n",
              "    <tr>\n",
              "      <th>15382</th>\n",
              "      <td>1.630560</td>\n",
              "      <td>3</td>\n",
              "      <td>-0.419265</td>\n",
              "      <td>2</td>\n",
              "      <td>7</td>\n",
              "      <td>0</td>\n",
              "      <td>4</td>\n",
              "      <td>-0.144792</td>\n",
              "      <td>-0.217132</td>\n",
              "      <td>-0.841048</td>\n",
              "      <td>38</td>\n",
              "    </tr>\n",
              "    <tr>\n",
              "      <th>7986</th>\n",
              "      <td>-0.557481</td>\n",
              "      <td>3</td>\n",
              "      <td>-0.419265</td>\n",
              "      <td>4</td>\n",
              "      <td>6</td>\n",
              "      <td>1</td>\n",
              "      <td>2</td>\n",
              "      <td>-0.144792</td>\n",
              "      <td>-0.217132</td>\n",
              "      <td>-0.841048</td>\n",
              "      <td>38</td>\n",
              "    </tr>\n",
              "    <tr>\n",
              "      <th>568</th>\n",
              "      <td>1.411756</td>\n",
              "      <td>5</td>\n",
              "      <td>0.358658</td>\n",
              "      <td>2</td>\n",
              "      <td>4</td>\n",
              "      <td>0</td>\n",
              "      <td>4</td>\n",
              "      <td>-0.144792</td>\n",
              "      <td>5.680892</td>\n",
              "      <td>1.983484</td>\n",
              "      <td>38</td>\n",
              "    </tr>\n",
              "    <tr>\n",
              "      <th>5794</th>\n",
              "      <td>0.098931</td>\n",
              "      <td>3</td>\n",
              "      <td>-2.364072</td>\n",
              "      <td>2</td>\n",
              "      <td>5</td>\n",
              "      <td>0</td>\n",
              "      <td>4</td>\n",
              "      <td>-0.144792</td>\n",
              "      <td>4.886879</td>\n",
              "      <td>-0.034039</td>\n",
              "      <td>25</td>\n",
              "    </tr>\n",
              "    <tr>\n",
              "      <th>1095</th>\n",
              "      <td>-0.630415</td>\n",
              "      <td>3</td>\n",
              "      <td>-1.975110</td>\n",
              "      <td>0</td>\n",
              "      <td>4</td>\n",
              "      <td>3</td>\n",
              "      <td>4</td>\n",
              "      <td>-0.144792</td>\n",
              "      <td>-0.217132</td>\n",
              "      <td>-0.841048</td>\n",
              "      <td>38</td>\n",
              "    </tr>\n",
              "    <tr>\n",
              "      <th>2596</th>\n",
              "      <td>0.390670</td>\n",
              "      <td>3</td>\n",
              "      <td>-0.419265</td>\n",
              "      <td>2</td>\n",
              "      <td>6</td>\n",
              "      <td>0</td>\n",
              "      <td>4</td>\n",
              "      <td>-0.144792</td>\n",
              "      <td>-0.217132</td>\n",
              "      <td>-0.034039</td>\n",
              "      <td>38</td>\n",
              "    </tr>\n",
              "    <tr>\n",
              "      <th>7178</th>\n",
              "      <td>-0.338677</td>\n",
              "      <td>3</td>\n",
              "      <td>-0.030304</td>\n",
              "      <td>2</td>\n",
              "      <td>11</td>\n",
              "      <td>0</td>\n",
              "      <td>4</td>\n",
              "      <td>-0.144792</td>\n",
              "      <td>-0.217132</td>\n",
              "      <td>4.727315</td>\n",
              "      <td>38</td>\n",
              "    </tr>\n",
              "    <tr>\n",
              "      <th>8098</th>\n",
              "      <td>-1.213893</td>\n",
              "      <td>3</td>\n",
              "      <td>-1.197188</td>\n",
              "      <td>4</td>\n",
              "      <td>4</td>\n",
              "      <td>1</td>\n",
              "      <td>4</td>\n",
              "      <td>-0.144792</td>\n",
              "      <td>-0.217132</td>\n",
              "      <td>-0.034039</td>\n",
              "      <td>38</td>\n",
              "    </tr>\n",
              "    <tr>\n",
              "      <th>10605</th>\n",
              "      <td>-0.046938</td>\n",
              "      <td>3</td>\n",
              "      <td>-0.419265</td>\n",
              "      <td>2</td>\n",
              "      <td>11</td>\n",
              "      <td>0</td>\n",
              "      <td>4</td>\n",
              "      <td>-0.144792</td>\n",
              "      <td>-0.217132</td>\n",
              "      <td>0.369465</td>\n",
              "      <td>38</td>\n",
              "    </tr>\n",
              "    <tr>\n",
              "      <th>1867</th>\n",
              "      <td>-0.557481</td>\n",
              "      <td>3</td>\n",
              "      <td>1.136580</td>\n",
              "      <td>4</td>\n",
              "      <td>3</td>\n",
              "      <td>1</td>\n",
              "      <td>4</td>\n",
              "      <td>-0.144792</td>\n",
              "      <td>-0.217132</td>\n",
              "      <td>-0.034039</td>\n",
              "      <td>38</td>\n",
              "    </tr>\n",
              "    <tr>\n",
              "      <th>6114</th>\n",
              "      <td>1.411756</td>\n",
              "      <td>3</td>\n",
              "      <td>1.136580</td>\n",
              "      <td>0</td>\n",
              "      <td>3</td>\n",
              "      <td>1</td>\n",
              "      <td>4</td>\n",
              "      <td>-0.144792</td>\n",
              "      <td>-0.217132</td>\n",
              "      <td>-0.034039</td>\n",
              "      <td>38</td>\n",
              "    </tr>\n",
              "    <tr>\n",
              "      <th>8799</th>\n",
              "      <td>0.025997</td>\n",
              "      <td>3</td>\n",
              "      <td>-0.030304</td>\n",
              "      <td>2</td>\n",
              "      <td>11</td>\n",
              "      <td>5</td>\n",
              "      <td>4</td>\n",
              "      <td>-0.144792</td>\n",
              "      <td>-0.217132</td>\n",
              "      <td>-0.841048</td>\n",
              "      <td>38</td>\n",
              "    </tr>\n",
              "    <tr>\n",
              "      <th>12885</th>\n",
              "      <td>1.192951</td>\n",
              "      <td>3</td>\n",
              "      <td>-0.419265</td>\n",
              "      <td>4</td>\n",
              "      <td>8</td>\n",
              "      <td>4</td>\n",
              "      <td>4</td>\n",
              "      <td>-0.144792</td>\n",
              "      <td>-0.217132</td>\n",
              "      <td>-0.034039</td>\n",
              "      <td>25</td>\n",
              "    </tr>\n",
              "    <tr>\n",
              "      <th>604</th>\n",
              "      <td>0.317735</td>\n",
              "      <td>-1</td>\n",
              "      <td>-1.197188</td>\n",
              "      <td>5</td>\n",
              "      <td>-1</td>\n",
              "      <td>2</td>\n",
              "      <td>4</td>\n",
              "      <td>-0.144792</td>\n",
              "      <td>-0.217132</td>\n",
              "      <td>-0.034039</td>\n",
              "      <td>38</td>\n",
              "    </tr>\n",
              "    <tr>\n",
              "      <th>2542</th>\n",
              "      <td>-0.995089</td>\n",
              "      <td>5</td>\n",
              "      <td>-0.419265</td>\n",
              "      <td>4</td>\n",
              "      <td>2</td>\n",
              "      <td>3</td>\n",
              "      <td>4</td>\n",
              "      <td>-0.144792</td>\n",
              "      <td>-0.217132</td>\n",
              "      <td>-0.034039</td>\n",
              "      <td>38</td>\n",
              "    </tr>\n",
              "    <tr>\n",
              "      <th>16189</th>\n",
              "      <td>-1.359762</td>\n",
              "      <td>3</td>\n",
              "      <td>-0.030304</td>\n",
              "      <td>4</td>\n",
              "      <td>11</td>\n",
              "      <td>1</td>\n",
              "      <td>4</td>\n",
              "      <td>-0.144792</td>\n",
              "      <td>-0.217132</td>\n",
              "      <td>-0.841048</td>\n",
              "      <td>38</td>\n",
              "    </tr>\n",
              "  </tbody>\n",
              "</table>\n",
              "</div>"
            ],
            "text/plain": [
              "            age  workclass  ...  hours_per_week  native_country\n",
              "11476 -0.776285          3  ...       -0.034039              38\n",
              "402   -1.578566          3  ...       -1.244553              38\n",
              "11873  2.359906          3  ...       -0.034039              38\n",
              "9001   0.609474          5  ...        1.579979              38\n",
              "15382  1.630560          3  ...       -0.841048              38\n",
              "7986  -0.557481          3  ...       -0.841048              38\n",
              "568    1.411756          5  ...        1.983484              38\n",
              "5794   0.098931          3  ...       -0.034039              25\n",
              "1095  -0.630415          3  ...       -0.841048              38\n",
              "2596   0.390670          3  ...       -0.034039              38\n",
              "7178  -0.338677          3  ...        4.727315              38\n",
              "8098  -1.213893          3  ...       -0.034039              38\n",
              "10605 -0.046938          3  ...        0.369465              38\n",
              "1867  -0.557481          3  ...       -0.034039              38\n",
              "6114   1.411756          3  ...       -0.034039              38\n",
              "8799   0.025997          3  ...       -0.841048              38\n",
              "12885  1.192951          3  ...       -0.034039              25\n",
              "604    0.317735         -1  ...       -0.034039              38\n",
              "2542  -0.995089          5  ...       -0.034039              38\n",
              "16189 -1.359762          3  ...       -0.841048              38\n",
              "\n",
              "[20 rows x 11 columns]"
            ]
          },
          "metadata": {
            "tags": []
          },
          "execution_count": 18
        }
      ]
    },
    {
      "cell_type": "markdown",
      "metadata": {
        "id": "HV1JhIWkn1t5"
      },
      "source": [
        "Notice that categorical fields, like `occupation`,  have already been converted to integers (with the same mapping that was used for training). Numerical fields, like `age`, have been scaled to a\n",
        "[z-score](https://developers.google.com/machine-learning/crash-course/representation/cleaning-data). Some fields have been dropped from the original\n",
        "data. Compare the prediction input with the raw data for the same examples:"
      ]
    },
    {
      "cell_type": "code",
      "metadata": {
        "id": "fvRzpDgugqQr",
        "colab": {
          "base_uri": "https://localhost:8080/",
          "height": 1000
        },
        "outputId": "61d78fa5-d1be-4c75-ceba-a6a355e190fc"
      },
      "source": [
        "import pandas as pd\n",
        "\n",
        "_, eval_file_path = util.download(util.DATA_DIR)\n",
        "raw_eval_data = pd.read_csv(eval_file_path,\n",
        "                            names=util._CSV_COLUMNS,\n",
        "                            na_values='?')\n",
        "\n",
        "raw_eval_data.iloc[prediction_input.index]"
      ],
      "execution_count": 19,
      "outputs": [
        {
          "output_type": "execute_result",
          "data": {
            "text/html": [
              "<div>\n",
              "<style scoped>\n",
              "    .dataframe tbody tr th:only-of-type {\n",
              "        vertical-align: middle;\n",
              "    }\n",
              "\n",
              "    .dataframe tbody tr th {\n",
              "        vertical-align: top;\n",
              "    }\n",
              "\n",
              "    .dataframe thead th {\n",
              "        text-align: right;\n",
              "    }\n",
              "</style>\n",
              "<table border=\"1\" class=\"dataframe\">\n",
              "  <thead>\n",
              "    <tr style=\"text-align: right;\">\n",
              "      <th></th>\n",
              "      <th>age</th>\n",
              "      <th>workclass</th>\n",
              "      <th>fnlwgt</th>\n",
              "      <th>education</th>\n",
              "      <th>education_num</th>\n",
              "      <th>marital_status</th>\n",
              "      <th>occupation</th>\n",
              "      <th>relationship</th>\n",
              "      <th>race</th>\n",
              "      <th>gender</th>\n",
              "      <th>capital_gain</th>\n",
              "      <th>capital_loss</th>\n",
              "      <th>hours_per_week</th>\n",
              "      <th>native_country</th>\n",
              "      <th>income_bracket</th>\n",
              "    </tr>\n",
              "  </thead>\n",
              "  <tbody>\n",
              "    <tr>\n",
              "      <th>11476</th>\n",
              "      <td>28</td>\n",
              "      <td>Private</td>\n",
              "      <td>113839</td>\n",
              "      <td>Some-college</td>\n",
              "      <td>10</td>\n",
              "      <td>Married-civ-spouse</td>\n",
              "      <td>Sales</td>\n",
              "      <td>Husband</td>\n",
              "      <td>White</td>\n",
              "      <td>Male</td>\n",
              "      <td>0</td>\n",
              "      <td>0</td>\n",
              "      <td>40</td>\n",
              "      <td>United-States</td>\n",
              "      <td>&lt;=50K</td>\n",
              "    </tr>\n",
              "    <tr>\n",
              "      <th>402</th>\n",
              "      <td>17</td>\n",
              "      <td>Private</td>\n",
              "      <td>40299</td>\n",
              "      <td>11th</td>\n",
              "      <td>7</td>\n",
              "      <td>Never-married</td>\n",
              "      <td>Sales</td>\n",
              "      <td>Own-child</td>\n",
              "      <td>White</td>\n",
              "      <td>Female</td>\n",
              "      <td>0</td>\n",
              "      <td>0</td>\n",
              "      <td>25</td>\n",
              "      <td>United-States</td>\n",
              "      <td>&lt;=50K</td>\n",
              "    </tr>\n",
              "    <tr>\n",
              "      <th>11873</th>\n",
              "      <td>71</td>\n",
              "      <td>Private</td>\n",
              "      <td>244688</td>\n",
              "      <td>7th-8th</td>\n",
              "      <td>4</td>\n",
              "      <td>Married-civ-spouse</td>\n",
              "      <td>Transport-moving</td>\n",
              "      <td>Husband</td>\n",
              "      <td>White</td>\n",
              "      <td>Male</td>\n",
              "      <td>6514</td>\n",
              "      <td>0</td>\n",
              "      <td>40</td>\n",
              "      <td>United-States</td>\n",
              "      <td>&gt;50K</td>\n",
              "    </tr>\n",
              "    <tr>\n",
              "      <th>9001</th>\n",
              "      <td>47</td>\n",
              "      <td>Self-emp-not-inc</td>\n",
              "      <td>326292</td>\n",
              "      <td>Bachelors</td>\n",
              "      <td>13</td>\n",
              "      <td>Married-civ-spouse</td>\n",
              "      <td>Farming-fishing</td>\n",
              "      <td>Husband</td>\n",
              "      <td>White</td>\n",
              "      <td>Male</td>\n",
              "      <td>0</td>\n",
              "      <td>0</td>\n",
              "      <td>60</td>\n",
              "      <td>United-States</td>\n",
              "      <td>&gt;50K</td>\n",
              "    </tr>\n",
              "    <tr>\n",
              "      <th>15382</th>\n",
              "      <td>61</td>\n",
              "      <td>Private</td>\n",
              "      <td>189932</td>\n",
              "      <td>HS-grad</td>\n",
              "      <td>9</td>\n",
              "      <td>Married-civ-spouse</td>\n",
              "      <td>Other-service</td>\n",
              "      <td>Husband</td>\n",
              "      <td>White</td>\n",
              "      <td>Male</td>\n",
              "      <td>0</td>\n",
              "      <td>0</td>\n",
              "      <td>30</td>\n",
              "      <td>United-States</td>\n",
              "      <td>&lt;=50K</td>\n",
              "    </tr>\n",
              "    <tr>\n",
              "      <th>7986</th>\n",
              "      <td>31</td>\n",
              "      <td>Private</td>\n",
              "      <td>408208</td>\n",
              "      <td>HS-grad</td>\n",
              "      <td>9</td>\n",
              "      <td>Never-married</td>\n",
              "      <td>Machine-op-inspct</td>\n",
              "      <td>Not-in-family</td>\n",
              "      <td>Black</td>\n",
              "      <td>Male</td>\n",
              "      <td>0</td>\n",
              "      <td>0</td>\n",
              "      <td>30</td>\n",
              "      <td>United-States</td>\n",
              "      <td>&lt;=50K</td>\n",
              "    </tr>\n",
              "    <tr>\n",
              "      <th>568</th>\n",
              "      <td>58</td>\n",
              "      <td>Self-emp-not-inc</td>\n",
              "      <td>25124</td>\n",
              "      <td>Assoc-voc</td>\n",
              "      <td>11</td>\n",
              "      <td>Married-civ-spouse</td>\n",
              "      <td>Farming-fishing</td>\n",
              "      <td>Husband</td>\n",
              "      <td>White</td>\n",
              "      <td>Male</td>\n",
              "      <td>0</td>\n",
              "      <td>2377</td>\n",
              "      <td>65</td>\n",
              "      <td>United-States</td>\n",
              "      <td>&lt;=50K</td>\n",
              "    </tr>\n",
              "    <tr>\n",
              "      <th>5794</th>\n",
              "      <td>40</td>\n",
              "      <td>Private</td>\n",
              "      <td>477345</td>\n",
              "      <td>7th-8th</td>\n",
              "      <td>4</td>\n",
              "      <td>Married-civ-spouse</td>\n",
              "      <td>Handlers-cleaners</td>\n",
              "      <td>Husband</td>\n",
              "      <td>White</td>\n",
              "      <td>Male</td>\n",
              "      <td>0</td>\n",
              "      <td>2057</td>\n",
              "      <td>40</td>\n",
              "      <td>Mexico</td>\n",
              "      <td>&lt;=50K</td>\n",
              "    </tr>\n",
              "    <tr>\n",
              "      <th>1095</th>\n",
              "      <td>30</td>\n",
              "      <td>Private</td>\n",
              "      <td>296538</td>\n",
              "      <td>9th</td>\n",
              "      <td>5</td>\n",
              "      <td>Divorced</td>\n",
              "      <td>Farming-fishing</td>\n",
              "      <td>Own-child</td>\n",
              "      <td>White</td>\n",
              "      <td>Male</td>\n",
              "      <td>0</td>\n",
              "      <td>0</td>\n",
              "      <td>30</td>\n",
              "      <td>United-States</td>\n",
              "      <td>&lt;=50K</td>\n",
              "    </tr>\n",
              "    <tr>\n",
              "      <th>2596</th>\n",
              "      <td>44</td>\n",
              "      <td>Private</td>\n",
              "      <td>150519</td>\n",
              "      <td>HS-grad</td>\n",
              "      <td>9</td>\n",
              "      <td>Married-civ-spouse</td>\n",
              "      <td>Machine-op-inspct</td>\n",
              "      <td>Husband</td>\n",
              "      <td>White</td>\n",
              "      <td>Male</td>\n",
              "      <td>0</td>\n",
              "      <td>0</td>\n",
              "      <td>40</td>\n",
              "      <td>United-States</td>\n",
              "      <td>&lt;=50K</td>\n",
              "    </tr>\n",
              "    <tr>\n",
              "      <th>7178</th>\n",
              "      <td>34</td>\n",
              "      <td>Private</td>\n",
              "      <td>132544</td>\n",
              "      <td>Some-college</td>\n",
              "      <td>10</td>\n",
              "      <td>Married-civ-spouse</td>\n",
              "      <td>Sales</td>\n",
              "      <td>Husband</td>\n",
              "      <td>White</td>\n",
              "      <td>Male</td>\n",
              "      <td>0</td>\n",
              "      <td>0</td>\n",
              "      <td>99</td>\n",
              "      <td>United-States</td>\n",
              "      <td>&lt;=50K</td>\n",
              "    </tr>\n",
              "    <tr>\n",
              "      <th>8098</th>\n",
              "      <td>22</td>\n",
              "      <td>Private</td>\n",
              "      <td>125542</td>\n",
              "      <td>11th</td>\n",
              "      <td>7</td>\n",
              "      <td>Never-married</td>\n",
              "      <td>Farming-fishing</td>\n",
              "      <td>Not-in-family</td>\n",
              "      <td>White</td>\n",
              "      <td>Male</td>\n",
              "      <td>0</td>\n",
              "      <td>0</td>\n",
              "      <td>40</td>\n",
              "      <td>United-States</td>\n",
              "      <td>&lt;=50K</td>\n",
              "    </tr>\n",
              "    <tr>\n",
              "      <th>10605</th>\n",
              "      <td>38</td>\n",
              "      <td>Private</td>\n",
              "      <td>134635</td>\n",
              "      <td>HS-grad</td>\n",
              "      <td>9</td>\n",
              "      <td>Married-civ-spouse</td>\n",
              "      <td>Sales</td>\n",
              "      <td>Husband</td>\n",
              "      <td>White</td>\n",
              "      <td>Male</td>\n",
              "      <td>0</td>\n",
              "      <td>0</td>\n",
              "      <td>45</td>\n",
              "      <td>United-States</td>\n",
              "      <td>&lt;=50K</td>\n",
              "    </tr>\n",
              "    <tr>\n",
              "      <th>1867</th>\n",
              "      <td>31</td>\n",
              "      <td>Private</td>\n",
              "      <td>243678</td>\n",
              "      <td>Bachelors</td>\n",
              "      <td>13</td>\n",
              "      <td>Never-married</td>\n",
              "      <td>Exec-managerial</td>\n",
              "      <td>Not-in-family</td>\n",
              "      <td>White</td>\n",
              "      <td>Female</td>\n",
              "      <td>0</td>\n",
              "      <td>0</td>\n",
              "      <td>40</td>\n",
              "      <td>United-States</td>\n",
              "      <td>&lt;=50K</td>\n",
              "    </tr>\n",
              "    <tr>\n",
              "      <th>6114</th>\n",
              "      <td>58</td>\n",
              "      <td>Private</td>\n",
              "      <td>186121</td>\n",
              "      <td>Bachelors</td>\n",
              "      <td>13</td>\n",
              "      <td>Divorced</td>\n",
              "      <td>Exec-managerial</td>\n",
              "      <td>Not-in-family</td>\n",
              "      <td>White</td>\n",
              "      <td>Male</td>\n",
              "      <td>0</td>\n",
              "      <td>0</td>\n",
              "      <td>40</td>\n",
              "      <td>United-States</td>\n",
              "      <td>&lt;=50K</td>\n",
              "    </tr>\n",
              "    <tr>\n",
              "      <th>8799</th>\n",
              "      <td>39</td>\n",
              "      <td>Private</td>\n",
              "      <td>370549</td>\n",
              "      <td>Some-college</td>\n",
              "      <td>10</td>\n",
              "      <td>Married-civ-spouse</td>\n",
              "      <td>Sales</td>\n",
              "      <td>Wife</td>\n",
              "      <td>White</td>\n",
              "      <td>Female</td>\n",
              "      <td>0</td>\n",
              "      <td>0</td>\n",
              "      <td>30</td>\n",
              "      <td>United-States</td>\n",
              "      <td>&gt;50K</td>\n",
              "    </tr>\n",
              "    <tr>\n",
              "      <th>12885</th>\n",
              "      <td>55</td>\n",
              "      <td>Private</td>\n",
              "      <td>197420</td>\n",
              "      <td>HS-grad</td>\n",
              "      <td>9</td>\n",
              "      <td>Never-married</td>\n",
              "      <td>Priv-house-serv</td>\n",
              "      <td>Unmarried</td>\n",
              "      <td>White</td>\n",
              "      <td>Female</td>\n",
              "      <td>0</td>\n",
              "      <td>0</td>\n",
              "      <td>40</td>\n",
              "      <td>Mexico</td>\n",
              "      <td>&lt;=50K</td>\n",
              "    </tr>\n",
              "    <tr>\n",
              "      <th>604</th>\n",
              "      <td>43</td>\n",
              "      <td>NaN</td>\n",
              "      <td>180318</td>\n",
              "      <td>11th</td>\n",
              "      <td>7</td>\n",
              "      <td>Separated</td>\n",
              "      <td>NaN</td>\n",
              "      <td>Other-relative</td>\n",
              "      <td>White</td>\n",
              "      <td>Male</td>\n",
              "      <td>0</td>\n",
              "      <td>0</td>\n",
              "      <td>40</td>\n",
              "      <td>United-States</td>\n",
              "      <td>&lt;=50K</td>\n",
              "    </tr>\n",
              "    <tr>\n",
              "      <th>2542</th>\n",
              "      <td>25</td>\n",
              "      <td>Self-emp-not-inc</td>\n",
              "      <td>314464</td>\n",
              "      <td>HS-grad</td>\n",
              "      <td>9</td>\n",
              "      <td>Never-married</td>\n",
              "      <td>Craft-repair</td>\n",
              "      <td>Own-child</td>\n",
              "      <td>White</td>\n",
              "      <td>Male</td>\n",
              "      <td>0</td>\n",
              "      <td>0</td>\n",
              "      <td>40</td>\n",
              "      <td>United-States</td>\n",
              "      <td>&lt;=50K</td>\n",
              "    </tr>\n",
              "    <tr>\n",
              "      <th>16189</th>\n",
              "      <td>20</td>\n",
              "      <td>Private</td>\n",
              "      <td>61777</td>\n",
              "      <td>Some-college</td>\n",
              "      <td>10</td>\n",
              "      <td>Never-married</td>\n",
              "      <td>Sales</td>\n",
              "      <td>Not-in-family</td>\n",
              "      <td>White</td>\n",
              "      <td>Male</td>\n",
              "      <td>0</td>\n",
              "      <td>0</td>\n",
              "      <td>30</td>\n",
              "      <td>United-States</td>\n",
              "      <td>&lt;=50K</td>\n",
              "    </tr>\n",
              "  </tbody>\n",
              "</table>\n",
              "</div>"
            ],
            "text/plain": [
              "       age         workclass  ...  native_country income_bracket\n",
              "11476   28           Private  ...   United-States          <=50K\n",
              "402     17           Private  ...   United-States          <=50K\n",
              "11873   71           Private  ...   United-States           >50K\n",
              "9001    47  Self-emp-not-inc  ...   United-States           >50K\n",
              "15382   61           Private  ...   United-States          <=50K\n",
              "7986    31           Private  ...   United-States          <=50K\n",
              "568     58  Self-emp-not-inc  ...   United-States          <=50K\n",
              "5794    40           Private  ...          Mexico          <=50K\n",
              "1095    30           Private  ...   United-States          <=50K\n",
              "2596    44           Private  ...   United-States          <=50K\n",
              "7178    34           Private  ...   United-States          <=50K\n",
              "8098    22           Private  ...   United-States          <=50K\n",
              "10605   38           Private  ...   United-States          <=50K\n",
              "1867    31           Private  ...   United-States          <=50K\n",
              "6114    58           Private  ...   United-States          <=50K\n",
              "8799    39           Private  ...   United-States           >50K\n",
              "12885   55           Private  ...          Mexico          <=50K\n",
              "604     43               NaN  ...   United-States          <=50K\n",
              "2542    25  Self-emp-not-inc  ...   United-States          <=50K\n",
              "16189   20           Private  ...   United-States          <=50K\n",
              "\n",
              "[20 rows x 15 columns]"
            ]
          },
          "metadata": {
            "tags": []
          },
          "execution_count": 19
        }
      ]
    },
    {
      "cell_type": "markdown",
      "metadata": {
        "id": "HFAbbH6ksG6s"
      },
      "source": [
        "Export the prediction input to a newline-delimited JSON file:"
      ]
    },
    {
      "cell_type": "code",
      "metadata": {
        "id": "Yl3JALtnsGj-",
        "colab": {
          "base_uri": "https://localhost:8080/"
        },
        "outputId": "38f530bd-b7be-48c1-d71b-978e595695d7"
      },
      "source": [
        "import json\n",
        "\n",
        "with open('prediction_input.json', 'w') as json_file:\n",
        "  for row in prediction_input.values.tolist():\n",
        "    json.dump(row, json_file)\n",
        "    json_file.write('\\n')\n",
        "\n",
        "! cat prediction_input.json"
      ],
      "execution_count": 20,
      "outputs": [
        {
          "output_type": "stream",
          "text": [
            "[-0.7762847657917541, 3.0, -0.030303770229214273, 2.0, 11.0, 0.0, 4.0, -0.14479173735784842, -0.21713186390175285, -0.03403923708700391, 38.0]\n",
            "[-1.5785661984052621, 3.0, -1.1971877337468013, 4.0, 11.0, 3.0, 4.0, -0.14479173735784842, -0.21713186390175285, -1.2445530834303788, 38.0]\n",
            "[2.3599062889701417, 3.0, -2.3640716972643885, 2.0, 13.0, 0.0, 4.0, 0.7293103925215587, -0.21713186390175285, -0.03403923708700391, 38.0]\n",
            "[0.609474072358851, 5.0, 1.1365801932883728, 2.0, 4.0, 0.0, 4.0, -0.14479173735784842, -0.21713186390175285, 1.5799792247041626, 38.0]\n",
            "[1.6305595320487705, 3.0, -0.4192650914017433, 2.0, 7.0, 0.0, 4.0, -0.14479173735784842, -0.21713186390175285, -0.8410484679825871, 38.0]\n",
            "[-0.5574807387153428, 3.0, -0.4192650914017433, 4.0, 6.0, 1.0, 2.0, -0.14479173735784842, -0.21713186390175285, -0.8410484679825871, 38.0]\n",
            "[1.4117555049723591, 5.0, 0.35865755094331475, 2.0, 4.0, 0.0, 4.0, -0.14479173735784842, 5.680891932180162, 1.9834838401519543, 38.0]\n",
            "[0.0989313425138912, 3.0, -2.3640716972643885, 2.0, 5.0, 0.0, 4.0, -0.14479173735784842, 4.8868794733050205, -0.03403923708700391, 25.0]\n",
            "[-0.6304154144074798, 3.0, -1.9751103760918594, 0.0, 4.0, 3.0, 4.0, -0.14479173735784842, -0.21713186390175285, -0.8410484679825871, 38.0]\n",
            "[0.39067004528243965, 3.0, -0.4192650914017433, 2.0, 6.0, 0.0, 4.0, -0.14479173735784842, -0.21713186390175285, -0.03403923708700391, 38.0]\n",
            "[-0.3386767116389314, 3.0, -0.030303770229214273, 2.0, 11.0, 0.0, 4.0, -0.14479173735784842, -0.21713186390175285, 4.7273152251969375, 38.0]\n",
            "[-1.2138928199445767, 3.0, -1.1971877337468013, 4.0, 4.0, 1.0, 4.0, -0.14479173735784842, -0.21713186390175285, -0.03403923708700391, 38.0]\n",
            "[-0.046938008870383005, 3.0, -0.4192650914017433, 2.0, 11.0, 0.0, 4.0, -0.14479173735784842, -0.21713186390175285, 0.3694653783607877, 38.0]\n",
            "[-0.5574807387153428, 3.0, 1.1365801932883728, 4.0, 3.0, 1.0, 4.0, -0.14479173735784842, -0.21713186390175285, -0.03403923708700391, 38.0]\n",
            "[1.4117555049723591, 3.0, 1.1365801932883728, 0.0, 3.0, 1.0, 4.0, -0.14479173735784842, -0.21713186390175285, -0.03403923708700391, 38.0]\n",
            "[0.0259966668217541, 3.0, -0.030303770229214273, 2.0, 11.0, 5.0, 4.0, -0.14479173735784842, -0.21713186390175285, -0.8410484679825871, 38.0]\n",
            "[1.1929514778959478, 3.0, -0.4192650914017433, 4.0, 8.0, 4.0, 4.0, -0.14479173735784842, -0.21713186390175285, -0.03403923708700391, 25.0]\n",
            "[0.3177353695903025, -1.0, -1.1971877337468013, 5.0, -1.0, 2.0, 4.0, -0.14479173735784842, -0.21713186390175285, -0.03403923708700391, 38.0]\n",
            "[-0.9950887928681653, 5.0, -0.4192650914017433, 4.0, 2.0, 3.0, 4.0, -0.14479173735784842, -0.21713186390175285, -0.03403923708700391, 38.0]\n",
            "[-1.3597621713288508, 3.0, -0.030303770229214273, 4.0, 11.0, 1.0, 4.0, -0.14479173735784842, -0.21713186390175285, -0.8410484679825871, 38.0]\n"
          ],
          "name": "stdout"
        }
      ]
    },
    {
      "cell_type": "markdown",
      "metadata": {
        "id": "kVvEmazFKUCp"
      },
      "source": [
        "The `gcloud` command-line tool accepts newline-delimited JSON for online\n",
        "prediction, and this particular Keras model expects a flat list of\n",
        "numbers for each input example.\n",
        "\n",
        "AI Platform requires a different format when you make online prediction requests to the REST API without using the `gcloud` tool. The way you structure\n",
        "your model may also change how you must format data for prediction. Learn more\n",
        "about [formatting data for online\n",
        "prediction](https://cloud.google.com/ml-engine/docs/tensorflow/prediction-overview#prediction_input_data)."
      ]
    },
    {
      "cell_type": "markdown",
      "metadata": {
        "id": "91xQnLqRN8A8"
      },
      "source": [
        "### Submit the online prediction request"
      ]
    },
    {
      "cell_type": "markdown",
      "metadata": {
        "id": "KrDIoVLaG7zZ"
      },
      "source": [
        "Use `gcloud` to submit your online prediction request."
      ]
    },
    {
      "cell_type": "code",
      "metadata": {
        "id": "5gIcXDFwOERG",
        "colab": {
          "base_uri": "https://localhost:8080/"
        },
        "outputId": "9382ba38-3e56-4d52-fb08-e60d9202a164"
      },
      "source": [
        "! gcloud ai-platform predict \\\n",
        "  --model $MODEL_NAME \\\n",
        "  --version $MODEL_VERSION \\\n",
        "  --json-instances prediction_input.json"
      ],
      "execution_count": null,
      "outputs": [
        {
          "output_type": "stream",
          "text": [
            "Please specify a region:\n",
            "(For the global endpoint the region needs to be specified as \n",
            "'global'.)\n",
            " [1] global\n",
            " [2] asia-east1\n",
            " [3] asia-northeast1\n",
            " [4] asia-southeast1\n",
            " [5] australia-southeast1\n",
            " [6] europe-west1\n",
            " [7] europe-west2\n",
            " [8] europe-west3\n",
            " [9] europe-west4\n",
            " [10] northamerica-northeast1\n",
            " [11] us-central1\n",
            " [12] us-east1\n",
            " [13] us-east4\n",
            " [14] us-west1\n",
            " [15] cancel\n",
            "Please enter your numeric choice:  "
          ],
          "name": "stdout"
        }
      ]
    },
    {
      "cell_type": "markdown",
      "metadata": {
        "id": "n6U2DYKJGwdf"
      },
      "source": [
        "Since the model's last layer uses a [sigmoid function](https://developers.google.com/machine-learning/glossary/#sigmoid_function) for its activation, outputs between 0 and 0.5 represent negative predictions (\"<=50K\") and outputs between 0.5 and 1 represent positive ones (\">50K\").\n",
        "\n",
        "Do the predicted income brackets match the actual ones? Run the following cell\n",
        "to see the true labels."
      ]
    },
    {
      "cell_type": "code",
      "metadata": {
        "id": "w2Piq3PcGhaX"
      },
      "source": [
        "prediction_targets"
      ],
      "execution_count": null,
      "outputs": []
    },
    {
      "cell_type": "markdown",
      "metadata": {
        "id": "GKP7F6-EDb5_"
      },
      "source": [
        "## Part 3. Developing the Keras model from scratch\n",
        "\n",
        "At this point, you have trained a machine learning model on AI Platform, deployed the trained model as a version resource on AI Platform, and received online predictions from the deployment. The next section walks through recreating the Keras code used to train your model. It covers the following parts of developing a machine learning model for use with AI Platform:\n",
        "\n",
        "* Downloading and preprocessing data\n",
        "* Designing and training the model\n",
        "* Visualizing training and exporting the trained model\n",
        "\n",
        "While this section provides more detailed insight to the tasks completed in previous parts, to learn more about using `tf.keras`, read [TensorFlow's guide to Keras](https://www.tensorflow.org/tutorials/keras). To learn more about structuring code as a training packge for AI Platform, read [Packaging a training application](https://cloud.google.com/ml-engine/docs/tensorflow/packaging-trainer) and reference the [complete training code](https://github.com/GoogleCloudPlatform/cloudml-samples/tree/master/census/tf-keras), which is structured as a Python package."
      ]
    },
    {
      "cell_type": "markdown",
      "metadata": {
        "id": "-VtUN0L5x4ql"
      },
      "source": [
        "### Import libraries and define constants\n",
        "\n",
        "First, import Python libraries required for training:"
      ]
    },
    {
      "cell_type": "code",
      "metadata": {
        "id": "RcxfR3GfscsA"
      },
      "source": [
        "import os\n",
        "from six.moves import urllib\n",
        "import tempfile\n",
        "\n",
        "import numpy as np\n",
        "import pandas as pd\n",
        "import tensorflow as tf\n",
        "\n",
        "# Examine software versions\n",
        "print(__import__('sys').version)\n",
        "print(tf.__version__)\n",
        "print(tf.keras.__version__)"
      ],
      "execution_count": null,
      "outputs": []
    },
    {
      "cell_type": "markdown",
      "metadata": {
        "id": "xWZQbZQmx26U"
      },
      "source": [
        "Then, define some useful constants:\n",
        "\n",
        "* Information for downloading training and evaluation data\n",
        "* Information required for Pandas to interpret the data and convert categorical fields into numeric features\n",
        "* Hyperparameters for training, such as learning rate and batch size"
      ]
    },
    {
      "cell_type": "code",
      "metadata": {
        "id": "Cx4OXeXEsh_v"
      },
      "source": [
        "### For downloading data ###\n",
        "\n",
        "# Storage directory\n",
        "DATA_DIR = os.path.join(tempfile.gettempdir(), 'census_data')\n",
        "\n",
        "# Download options.\n",
        "DATA_URL = 'https://storage.googleapis.com/cloud-samples-data/ai-platform' \\\n",
        "           '/census/data'\n",
        "TRAINING_FILE = 'adult.data.csv'\n",
        "EVAL_FILE = 'adult.test.csv'\n",
        "TRAINING_URL = '%s/%s' % (DATA_URL, TRAINING_FILE)\n",
        "EVAL_URL = '%s/%s' % (DATA_URL, EVAL_FILE)\n",
        "\n",
        "### For interpreting data ###\n",
        "\n",
        "# These are the features in the dataset.\n",
        "# Dataset information: https://archive.ics.uci.edu/ml/datasets/census+income\n",
        "_CSV_COLUMNS = [\n",
        "    'age', 'workclass', 'fnlwgt', 'education', 'education_num',\n",
        "    'marital_status', 'occupation', 'relationship', 'race', 'gender',\n",
        "    'capital_gain', 'capital_loss', 'hours_per_week', 'native_country',\n",
        "    'income_bracket'\n",
        "]\n",
        "\n",
        "_CATEGORICAL_TYPES = {\n",
        "    'workclass': pd.api.types.CategoricalDtype(categories=[\n",
        "        'Federal-gov', 'Local-gov', 'Never-worked', 'Private', 'Self-emp-inc',\n",
        "        'Self-emp-not-inc', 'State-gov', 'Without-pay'\n",
        "    ]),\n",
        "    'marital_status': pd.api.types.CategoricalDtype(categories=[\n",
        "        'Divorced', 'Married-AF-spouse', 'Married-civ-spouse',\n",
        "        'Married-spouse-absent', 'Never-married', 'Separated', 'Widowed'\n",
        "    ]),\n",
        "    'occupation': pd.api.types.CategoricalDtype([\n",
        "        'Adm-clerical', 'Armed-Forces', 'Craft-repair', 'Exec-managerial',\n",
        "        'Farming-fishing', 'Handlers-cleaners', 'Machine-op-inspct',\n",
        "        'Other-service', 'Priv-house-serv', 'Prof-specialty', 'Protective-serv',\n",
        "        'Sales', 'Tech-support', 'Transport-moving'\n",
        "    ]),\n",
        "    'relationship': pd.api.types.CategoricalDtype(categories=[\n",
        "        'Husband', 'Not-in-family', 'Other-relative', 'Own-child', 'Unmarried',\n",
        "        'Wife'\n",
        "    ]),\n",
        "    'race': pd.api.types.CategoricalDtype(categories=[\n",
        "        'Amer-Indian-Eskimo', 'Asian-Pac-Islander', 'Black', 'Other', 'White'\n",
        "    ]),\n",
        "    'native_country': pd.api.types.CategoricalDtype(categories=[\n",
        "        'Cambodia', 'Canada', 'China', 'Columbia', 'Cuba', 'Dominican-Republic',\n",
        "        'Ecuador', 'El-Salvador', 'England', 'France', 'Germany', 'Greece',\n",
        "        'Guatemala', 'Haiti', 'Holand-Netherlands', 'Honduras', 'Hong', 'Hungary',\n",
        "        'India', 'Iran', 'Ireland', 'Italy', 'Jamaica', 'Japan', 'Laos', 'Mexico',\n",
        "        'Nicaragua', 'Outlying-US(Guam-USVI-etc)', 'Peru', 'Philippines', 'Poland',\n",
        "        'Portugal', 'Puerto-Rico', 'Scotland', 'South', 'Taiwan', 'Thailand',\n",
        "        'Trinadad&Tobago', 'United-States', 'Vietnam', 'Yugoslavia'\n",
        "    ]),\n",
        "    'income_bracket': pd.api.types.CategoricalDtype(categories=[\n",
        "        '<=50K', '>50K'\n",
        "    ])\n",
        "}\n",
        "\n",
        "# This is the label (target) we want to predict.\n",
        "_LABEL_COLUMN = 'income_bracket'\n",
        "\n",
        "### Hyperparameters for training ###\n",
        "\n",
        "# This the training batch size\n",
        "BATCH_SIZE = 128\n",
        "\n",
        "# This is the number of epochs (passes over the full training data)\n",
        "NUM_EPOCHS = 20\n",
        "\n",
        "# Define learning rate.\n",
        "LEARNING_RATE = .01"
      ],
      "execution_count": null,
      "outputs": []
    },
    {
      "cell_type": "markdown",
      "metadata": {
        "id": "bSJjhQ8ZyDae"
      },
      "source": [
        "### Download and preprocess data"
      ]
    },
    {
      "cell_type": "markdown",
      "metadata": {
        "id": "uafupKCgxazq"
      },
      "source": [
        "#### Download the data\n",
        "\n",
        "Next, define functions to download training and evaluation data. These functions also fix minor irregularities in the data's formatting."
      ]
    },
    {
      "cell_type": "code",
      "metadata": {
        "cellView": "both",
        "id": "iGorBTXWUZPy"
      },
      "source": [
        "def _download_and_clean_file(filename, url):\n",
        "    \"\"\"Downloads data from url, and makes changes to match the CSV format.\n",
        "  \n",
        "    The CSVs may use spaces after the comma delimters (non-standard) or include\n",
        "    rows which do not represent well-formed examples. This function strips out\n",
        "    some of these problems.\n",
        "  \n",
        "    Args:\n",
        "      filename: filename to save url to\n",
        "      url: URL of resource to download\n",
        "    \"\"\"\n",
        "    temp_file, _ = urllib.request.urlretrieve(url)\n",
        "    with tf.io.gfile.GFile(temp_file, 'r') as temp_file_object:\n",
        "        with tf.io.gfile.GFile(filename, 'w') as file_object:\n",
        "            for line in temp_file_object:\n",
        "                line = line.strip()\n",
        "                line = line.replace(', ', ',')\n",
        "                if not line or ',' not in line:\n",
        "                    continue\n",
        "                if line[-1] == '.':\n",
        "                    line = line[:-1]\n",
        "                line += '\\n'\n",
        "                file_object.write(line)\n",
        "    tf.io.gfile.remove(temp_file)\n",
        "\n",
        "\n",
        "def download(data_dir):\n",
        "    \"\"\"Downloads census data if it is not already present.\n",
        "  \n",
        "    Args:\n",
        "      data_dir: directory where we will access/save the census data\n",
        "    \"\"\"\n",
        "    tf.io.gfile.makedirs(data_dir)\n",
        "\n",
        "    training_file_path = os.path.join(data_dir, TRAINING_FILE)\n",
        "    if not tf.io.gfile.exists(training_file_path):\n",
        "        _download_and_clean_file(training_file_path, TRAINING_URL)\n",
        "\n",
        "    eval_file_path = os.path.join(data_dir, EVAL_FILE)\n",
        "    if not tf.io.gfile.exists(eval_file_path):\n",
        "        _download_and_clean_file(eval_file_path, EVAL_URL)\n",
        "\n",
        "    return training_file_path, eval_file_path"
      ],
      "execution_count": null,
      "outputs": []
    },
    {
      "cell_type": "markdown",
      "metadata": {
        "id": "fuX5SyAOgYsG"
      },
      "source": [
        "Use those functions to download the data for training and verify that you have CSV files for training and evaluation: "
      ]
    },
    {
      "cell_type": "code",
      "metadata": {
        "id": "9Wii7NAss92J"
      },
      "source": [
        "training_file_path, eval_file_path = download(DATA_DIR)\n",
        "\n",
        "# You should see 2 files: adult.data.csv and adult.test.csv\n",
        "!ls -l $DATA_DIR"
      ],
      "execution_count": null,
      "outputs": []
    },
    {
      "cell_type": "markdown",
      "metadata": {
        "id": "tHSJTrDygqpS"
      },
      "source": [
        "Next, load these files using Pandas and examine the data:"
      ]
    },
    {
      "cell_type": "code",
      "metadata": {
        "id": "KHWiAYCew28Q"
      },
      "source": [
        "# This census data uses the value '?' for fields (column) that are missing data. \n",
        "# We use na_values to find ? and set it to NaN values.\n",
        "# https://pandas.pydata.org/pandas-docs/stable/generated/pandas.read_csv.html\n",
        "\n",
        "train_df = pd.read_csv(training_file_path, names=_CSV_COLUMNS, na_values='?')\n",
        "eval_df = pd.read_csv(eval_file_path, names=_CSV_COLUMNS, na_values='?')\n",
        "\n",
        "# Here's what the data looks like before we preprocess the data.\n",
        "train_df.head()"
      ],
      "execution_count": null,
      "outputs": []
    },
    {
      "cell_type": "markdown",
      "metadata": {
        "id": "Hhsa1-6qVD0n"
      },
      "source": [
        "#### Preprocess the data\n",
        "\n",
        "The first preprocessing step removes certain features from the data and\n",
        "converts categorical features to numerical values for use with Keras.\n",
        "\n",
        "Learn more about [feature engineering](https://developers.google.com/machine-learning/crash-course/representation/feature-engineering) and [bias in data](https://developers.google.com/machine-learning/crash-course/fairness/types-of-bias)."
      ]
    },
    {
      "cell_type": "code",
      "metadata": {
        "id": "WHbJecf1Bb2r"
      },
      "source": [
        "UNUSED_COLUMNS = ['fnlwgt', 'education', 'gender']\n",
        "\n",
        "\n",
        "def preprocess(dataframe):\n",
        "    \"\"\"Converts categorical features to numeric. Removes unused columns.\n",
        "  \n",
        "    Args:\n",
        "      dataframe: Pandas dataframe with raw data\n",
        "  \n",
        "    Returns:\n",
        "      Dataframe with preprocessed data\n",
        "    \"\"\"\n",
        "    dataframe = dataframe.drop(columns=UNUSED_COLUMNS)\n",
        "\n",
        "    # Convert integer valued (numeric) columns to floating point\n",
        "    numeric_columns = dataframe.select_dtypes(['int64']).columns\n",
        "    dataframe[numeric_columns] = dataframe[numeric_columns].astype('float32')\n",
        "\n",
        "    # Convert categorical columns to numeric\n",
        "    cat_columns = dataframe.select_dtypes(['object']).columns\n",
        "    dataframe[cat_columns] = dataframe[cat_columns].apply(lambda x: x.astype(\n",
        "        _CATEGORICAL_TYPES[x.name]))\n",
        "    dataframe[cat_columns] = dataframe[cat_columns].apply(lambda x: x.cat.codes)\n",
        "    return dataframe\n",
        "\n",
        "\n",
        "prepped_train_df = preprocess(train_df)\n",
        "prepped_eval_df = preprocess(eval_df)"
      ],
      "execution_count": null,
      "outputs": []
    },
    {
      "cell_type": "markdown",
      "metadata": {
        "id": "ce0Ln1P-mpwx"
      },
      "source": [
        "Run the following cell to see how preprocessing changed the data. Notice in particular that `income_bracket`, the label that you're training the model to predict, has changed from `<=50K` and `>50K` to `0` and `1`:"
      ]
    },
    {
      "cell_type": "code",
      "metadata": {
        "id": "YbMskdWmTCED"
      },
      "source": [
        "prepped_train_df.head()"
      ],
      "execution_count": null,
      "outputs": []
    },
    {
      "cell_type": "markdown",
      "metadata": {
        "id": "OCzBX6LuCmTT"
      },
      "source": [
        "Next, separate the data into features (\"x\") and labels (\"y\"), and reshape the label arrays into a format for use with `tf.data.Dataset` later:"
      ]
    },
    {
      "cell_type": "code",
      "metadata": {
        "id": "gPq7WY51GW6M"
      },
      "source": [
        "# Split train and test data with labels.\n",
        "# The pop() method will extract (copy) and remove the label column from the dataframe\n",
        "train_x, train_y = prepped_train_df, prepped_train_df.pop(_LABEL_COLUMN)\n",
        "eval_x, eval_y = prepped_eval_df, prepped_eval_df.pop(_LABEL_COLUMN)\n",
        "\n",
        "# Reshape label columns for use with tf.data.Dataset\n",
        "train_y = np.asarray(train_y).astype('float32').reshape((-1, 1))\n",
        "eval_y = np.asarray(eval_y).astype('float32').reshape((-1, 1))"
      ],
      "execution_count": null,
      "outputs": []
    },
    {
      "cell_type": "markdown",
      "metadata": {
        "id": "A1tDH7_RDAIK"
      },
      "source": [
        "Scaling training data so each numerical feature column has a mean of 0 and a standard deviation of 1 [can improve your model](https://developers.google.com/machine-learning/crash-course/representation/cleaning-data).\n",
        "\n",
        "In a production system, you may want to save the means and standard deviations from your training set and use them to perform an identical transformation on test data at prediction time. For convenience in this exercise, temporarily combine the training and evaluation data to scale all of them:"
      ]
    },
    {
      "cell_type": "code",
      "metadata": {
        "id": "OXAMwr3dCsqd"
      },
      "source": [
        "def standardize(dataframe):\n",
        "    \"\"\"Scales numerical columns using their means and standard deviation to get\n",
        "    z-scores: the mean of each numerical column becomes 0, and the standard\n",
        "    deviation becomes 1. This can help the model converge during training.\n",
        "  \n",
        "    Args:\n",
        "      dataframe: Pandas dataframe\n",
        "  \n",
        "    Returns:\n",
        "      Input dataframe with the numerical columns scaled to z-scores\n",
        "    \"\"\"\n",
        "    dtypes = list(zip(dataframe.dtypes.index, map(str, dataframe.dtypes)))\n",
        "    # Normalize numeric columns.\n",
        "    for column, dtype in dtypes:\n",
        "        if dtype == 'float32':\n",
        "            dataframe[column] -= dataframe[column].mean()\n",
        "            dataframe[column] /= dataframe[column].std()\n",
        "    return dataframe\n",
        "\n",
        "\n",
        "# Join train_x and eval_x to normalize on overall means and standard\n",
        "# deviations. Then separate them again.\n",
        "all_x = pd.concat([train_x, eval_x], keys=['train', 'eval'])\n",
        "all_x = standardize(all_x)\n",
        "train_x, eval_x = all_x.xs('train'), all_x.xs('eval')"
      ],
      "execution_count": null,
      "outputs": []
    },
    {
      "cell_type": "markdown",
      "metadata": {
        "id": "aqKZk6NawDe-"
      },
      "source": [
        "Finally, examine some of your fully preprocessed training data:"
      ]
    },
    {
      "cell_type": "code",
      "metadata": {
        "id": "6NZqE3Wlg1yg"
      },
      "source": [
        "# Verify dataset features\n",
        "# Note how only the numeric fields (not categorical) have been standardized\n",
        "train_x.head()"
      ],
      "execution_count": null,
      "outputs": []
    },
    {
      "cell_type": "markdown",
      "metadata": {
        "id": "V1bLJFrNxHXV"
      },
      "source": [
        "### Design and train the model"
      ]
    },
    {
      "cell_type": "markdown",
      "metadata": {
        "id": "iWkmN8ZmwSXU"
      },
      "source": [
        "#### Create training and validation datasets\n",
        "\n",
        "Create an input function to convert features and labels into a\n",
        "[`tf.data.Dataset`](https://www.tensorflow.org/guide/datasets) for training or evaluation:"
      ]
    },
    {
      "cell_type": "code",
      "metadata": {
        "id": "PIfE-YaXwRaU"
      },
      "source": [
        "def input_fn(features, labels, shuffle, num_epochs, batch_size):\n",
        "    \"\"\"Generates an input function to be used for model training.\n",
        "  \n",
        "    Args:\n",
        "      features: numpy array of features used for training or inference\n",
        "      labels: numpy array of labels for each example\n",
        "      shuffle: boolean for whether to shuffle the data or not (set True for\n",
        "        training, False for evaluation)\n",
        "      num_epochs: number of epochs to provide the data for\n",
        "      batch_size: batch size for training\n",
        "  \n",
        "    Returns:\n",
        "      A tf.data.Dataset that can provide data to the Keras model for training or\n",
        "        evaluation\n",
        "    \"\"\"\n",
        "    if labels is None:\n",
        "        inputs = features\n",
        "    else:\n",
        "        inputs = (features, labels)\n",
        "    dataset = tf.data.Dataset.from_tensor_slices(inputs)\n",
        "\n",
        "    if shuffle:\n",
        "        dataset = dataset.shuffle(buffer_size=len(features))\n",
        "\n",
        "    # We call repeat after shuffling, rather than before, to prevent separate\n",
        "    # epochs from blending together.\n",
        "    dataset = dataset.repeat(num_epochs)\n",
        "    dataset = dataset.batch(batch_size)\n",
        "    return dataset"
      ],
      "execution_count": null,
      "outputs": []
    },
    {
      "cell_type": "markdown",
      "metadata": {
        "id": "f8paLJ_rF84R"
      },
      "source": [
        "Next, create these training and evaluation datasets.Use the `NUM_EPOCHS`\n",
        "and `BATCH_SIZE` hyperparameters defined previously to define how the training\n",
        "dataset provides examples to the model during training. Set up the validation\n",
        "dataset to provide all its examples in one batch, for a single validation step\n",
        "at the end of each training epoch."
      ]
    },
    {
      "cell_type": "code",
      "metadata": {
        "id": "_xdC2P5EF7rH"
      },
      "source": [
        "# Pass a numpy array by using DataFrame.values\n",
        "training_dataset = input_fn(features=train_x.values, \n",
        "                    labels=train_y, \n",
        "                    shuffle=True, \n",
        "                    num_epochs=NUM_EPOCHS, \n",
        "                    batch_size=BATCH_SIZE)\n",
        "\n",
        "num_eval_examples = eval_x.shape[0]\n",
        "\n",
        "# Pass a numpy array by using DataFrame.values\n",
        "validation_dataset = input_fn(features=eval_x.values, \n",
        "                    labels=eval_y, \n",
        "                    shuffle=False, \n",
        "                    num_epochs=NUM_EPOCHS, \n",
        "                    batch_size=num_eval_examples)                "
      ],
      "execution_count": null,
      "outputs": []
    },
    {
      "cell_type": "markdown",
      "metadata": {
        "id": "vZrDBXnxggOH"
      },
      "source": [
        "#### Design a Keras Model"
      ]
    },
    {
      "cell_type": "markdown",
      "metadata": {
        "id": "JY_A0yPyqU08"
      },
      "source": [
        "Design your neural network using the [Keras Sequential API](https://www.tensorflow.org/guide/keras#sequential_model).\n",
        "\n",
        "This deep neural network (DNN) has several hidden layers, and the last layer uses a sigmoid activation function to output a value between 0 and 1:\n",
        "\n",
        "* The input layer has 100 units using the ReLU activation function.\n",
        "* The hidden layer has 75 units using the ReLU activation function.\n",
        "* The hidden layer has 50 units using the ReLU activation function.\n",
        "* The hidden layer has 25 units using the ReLU activation function.\n",
        "* The output layer has 1 units using a sigmoid activation function.\n",
        "* The optimizer uses the binary cross-entropy loss function, which is appropriate for a binary classification problem like this one.\n",
        "\n",
        "Feel free to change these layers to try to improve the model:"
      ]
    },
    {
      "cell_type": "code",
      "metadata": {
        "id": "j_lsOhQAvzS-"
      },
      "source": [
        "def create_keras_model(input_dim, learning_rate):\n",
        "    \"\"\"Creates Keras Model for Binary Classification.\n",
        "  \n",
        "    Args:\n",
        "      input_dim: How many features the input has\n",
        "      learning_rate: Learning rate for training\n",
        "  \n",
        "    Returns:\n",
        "      The compiled Keras model (still needs to be trained)\n",
        "    \"\"\"\n",
        "    Dense = tf.keras.layers.Dense\n",
        "    model = tf.keras.Sequential(\n",
        "      [\n",
        "          Dense(100, activation=tf.nn.relu, kernel_initializer='uniform',\n",
        "                  input_shape=(input_dim,)),\n",
        "          Dense(75, activation=tf.nn.relu),\n",
        "          Dense(50, activation=tf.nn.relu),\n",
        "          Dense(25, activation=tf.nn.relu),\n",
        "          Dense(1, activation=tf.nn.sigmoid)\n",
        "      ])\n",
        "    # Custom Optimizer:\n",
        "    # https://www.tensorflow.org/api_docs/python/tf/train/RMSPropOptimizer\n",
        "    optimizer = tf.keras.optimizers.RMSprop(\n",
        "        lr=learning_rate)\n",
        "\n",
        "    # Compile Keras model\n",
        "    model.compile(\n",
        "        loss='binary_crossentropy', optimizer=optimizer, metrics=['accuracy'])\n",
        "    return model"
      ],
      "execution_count": null,
      "outputs": []
    },
    {
      "cell_type": "markdown",
      "metadata": {
        "id": "mo5zTRNvBWv4"
      },
      "source": [
        "Next, create the Keras model object and examine its structure:"
      ]
    },
    {
      "cell_type": "code",
      "metadata": {
        "id": "zdyOuwQcSjaY"
      },
      "source": [
        "num_train_examples, input_dim = train_x.shape\n",
        "print('Number of features: {}'.format(input_dim))\n",
        "print('Number of examples: {}'.format(num_train_examples))\n",
        "\n",
        "keras_model = create_keras_model(\n",
        "    input_dim=input_dim,\n",
        "    learning_rate=LEARNING_RATE)\n",
        "\n",
        "# Take a detailed look inside the model\n",
        "keras_model.summary()"
      ],
      "execution_count": null,
      "outputs": []
    },
    {
      "cell_type": "markdown",
      "metadata": {
        "id": "4cqeQttaHbZt"
      },
      "source": [
        "#### Train and evaluate the model\n",
        "\n",
        "Define a learning rate decay to encourage model paramaters to make smaller\n",
        "changes as training goes on:"
      ]
    },
    {
      "cell_type": "code",
      "metadata": {
        "id": "7eLa_Yoj2rhv"
      },
      "source": [
        "# Setup Learning Rate decay.\n",
        "lr_decay_cb = tf.keras.callbacks.LearningRateScheduler(\n",
        "    lambda epoch: LEARNING_RATE + 0.02 * (0.5 ** (1 + epoch)),\n",
        "    verbose=True)\n",
        "\n",
        "# Setup TensorBoard callback.\n",
        "tensorboard_cb = tf.keras.callbacks.TensorBoard(\n",
        "      os.path.join(JOB_DIR, 'keras_tensorboard'),\n",
        "      histogram_freq=1)"
      ],
      "execution_count": null,
      "outputs": []
    },
    {
      "cell_type": "markdown",
      "metadata": {
        "id": "1fExnH6bhOSC"
      },
      "source": [
        "Finally, train the model. Provide the appropriate `steps_per_epoch` for the\n",
        "model to train on the entire training dataset (with `BATCH_SIZE` examples per step) during each epoch. And instruct the model to calculate validation\n",
        "accuracy with one big validation batch at the end of each epoch.\n"
      ]
    },
    {
      "cell_type": "code",
      "metadata": {
        "id": "MG4EvLiorMmZ"
      },
      "source": [
        "history = keras_model.fit(training_dataset, \n",
        "                          epochs=NUM_EPOCHS, \n",
        "                          steps_per_epoch=int(num_train_examples/BATCH_SIZE), \n",
        "                          validation_data=validation_dataset, \n",
        "                          validation_steps=1, \n",
        "                          callbacks=[lr_decay_cb, tensorboard_cb],\n",
        "                          verbose=1)"
      ],
      "execution_count": null,
      "outputs": []
    },
    {
      "cell_type": "markdown",
      "metadata": {
        "id": "fW7vTPm2pd2l"
      },
      "source": [
        "### Visualize training and export the trained model"
      ]
    },
    {
      "cell_type": "markdown",
      "metadata": {
        "id": "S9ZQcgetLHz9"
      },
      "source": [
        "#### Visualize training\n",
        "\n",
        "Import `matplotlib` to visualize how the model learned over the training period."
      ]
    },
    {
      "cell_type": "code",
      "metadata": {
        "id": "ISzcM0lxMOPX"
      },
      "source": [
        "! pip install matplotlib\n",
        "\n",
        "from matplotlib import pyplot as plt\n",
        "\n",
        "%matplotlib inline"
      ],
      "execution_count": null,
      "outputs": []
    },
    {
      "cell_type": "markdown",
      "metadata": {
        "id": "e6tLXXT0SR-q"
      },
      "source": [
        "Plot the model's loss (binary cross-entropy) and accuracy, as measured at the\n",
        "end of each training epoch:"
      ]
    },
    {
      "cell_type": "code",
      "metadata": {
        "id": "yU1TzdlY0i-Y"
      },
      "source": [
        "# Visualize History for Loss.\n",
        "plt.title('Keras model loss')\n",
        "plt.plot(history.history['loss'])\n",
        "plt.plot(history.history['val_loss'])\n",
        "plt.ylabel('loss')\n",
        "plt.xlabel('epoch')\n",
        "plt.legend(['training', 'validation'], loc='upper right')\n",
        "plt.show()\n",
        "\n",
        "# Visualize History for Accuracy.\n",
        "plt.title('Keras model accuracy')\n",
        "plt.ylabel('accuracy')\n",
        "plt.xlabel('epoch')\n",
        "plt.plot(history.history['acc'])\n",
        "plt.plot(history.history['val_acc'])\n",
        "plt.legend(['training', 'validation'], loc='lower right')\n",
        "plt.show()"
      ],
      "execution_count": null,
      "outputs": []
    },
    {
      "cell_type": "markdown",
      "metadata": {
        "id": "D2L4TkncQb0F"
      },
      "source": [
        "Over time, loss decreases and accuracy increases. But do they converge to a\n",
        "stable level? Are there big differences between the training and validation\n",
        "metrics (a sign of overfitting)?\n",
        "\n",
        "Learn about [how to improve your machine learning\n",
        "model](https://developers.google.com/machine-learning/crash-course/). Then, feel\n",
        "free to adjust hyperparameters or the model architecture and train again."
      ]
    },
    {
      "cell_type": "markdown",
      "metadata": {
        "id": "gmTiOQObmTqd"
      },
      "source": [
        "#### Export the model for serving\n",
        "\n",
        "AI Platform requires when you [create a model version\n",
        "resource](https://cloud.google.com/ml-engine/docs/tensorflow/deploying-models#create_a_model_version).\n",
        "\n",
        "Since not all optimizers can be exported to the SavedModel format, you may see\n",
        "warnings during the export process. As long you successfully export a serving\n",
        "graph, AI Platform can used the SavedModel to serve predictions."
      ]
    },
    {
      "cell_type": "code",
      "metadata": {
        "id": "d4BaDUJzmTW_"
      },
      "source": [
        "# Export the model to a local SavedModel directory \n",
        "export_path = tf.keras.experimental.export_saved_model(keras_model, 'keras_export')\n",
        "print(\"Model exported to: \", export_path)"
      ],
      "execution_count": null,
      "outputs": []
    },
    {
      "cell_type": "markdown",
      "metadata": {
        "id": "dzGLPJbikj1t"
      },
      "source": [
        "You may export a SavedModel directory to your local filesystem or to Cloud\n",
        "Storage, as long as you have the necessary permissions. In your current\n",
        "environment, you granted access to Cloud Storage by authenticating your GCP account and setting the `GOOGLE_APPLICATION_CREDENTIALS` environment variable.\n",
        "AI Platform training jobs can also export directly to Cloud Storage, because\n",
        "AI Platform service accounts [have access to Cloud Storage buckets in their own\n",
        "project](https://cloud.google.com/ml-engine/docs/tensorflow/working-with-cloud-storage).\n",
        "\n",
        "Try exporting directly to Cloud Storage:"
      ]
    },
    {
      "cell_type": "code",
      "metadata": {
        "id": "_eIF2qfykiFJ"
      },
      "source": [
        "# Export the model to a SavedModel directory in Cloud Storage\n",
        "export_path = tf.keras.experimental.export_saved_model(keras_model, JOB_DIR + '/keras_export')\n",
        "print(\"Model exported to: \", export_path)"
      ],
      "execution_count": null,
      "outputs": []
    },
    {
      "cell_type": "markdown",
      "metadata": {
        "id": "i805caqculq4"
      },
      "source": [
        "You can now deploy this model to AI Platform and serve predictions by\n",
        "following the steps from Part 2."
      ]
    },
    {
      "cell_type": "markdown",
      "metadata": {
        "id": "x27DXeUGzb-M"
      },
      "source": [
        "## Cleaning up\n",
        "\n",
        "To clean up all GCP resources used in this project, you can [delete the GCP\n",
        "project](https://cloud.google.com/resource-manager/docs/creating-managing-projects#shutting_down_projects) you used for the tutorial.\n",
        "\n",
        "Alternatively, you can clean up individual resources by running the following\n",
        "commands:"
      ]
    },
    {
      "cell_type": "code",
      "metadata": {
        "id": "no210oWF68Uk"
      },
      "source": [
        "# Delete model version resource\n",
        "! gcloud ai-platform versions delete $MODEL_VERSION --quiet --model $MODEL_NAME \n",
        "\n",
        "# Delete model resource\n",
        "! gcloud ai-platform models delete $MODEL_NAME --quiet\n",
        "\n",
        "# Delete Cloud Storage objects that were created\n",
        "! gsutil -m rm -r $JOB_DIR\n",
        "\n",
        "# If the training job is still running, cancel it\n",
        "! gcloud ai-platform jobs cancel $JOB_NAME --quiet --verbosity critical"
      ],
      "execution_count": null,
      "outputs": []
    },
    {
      "cell_type": "markdown",
      "metadata": {
        "id": "3F2g4OjbJ3gZ"
      },
      "source": [
        "If your Cloud Storage bucket doesn't contain any other objects and you would like to delete it, run `gsutil rm -r gs://$BUCKET_NAME`."
      ]
    },
    {
      "cell_type": "markdown",
      "metadata": {
        "id": "K0UXLWaBJnrY"
      },
      "source": [
        "## What's next?\n",
        "\n",
        "* View the [complete training\n",
        "code](https://github.com/GoogleCloudPlatform/cloudml-samples/tree/master/census/tf-keras) used in this guide, which structures the code to accept custom\n",
        "hyperparameters as command-line flags.\n",
        "* Read about [packaging\n",
        "code](https://cloud.google.com/ml-engine/docs/tensorflow/packaging-trainer) for an AI Platform training job.\n",
        "* Read about [deploying a\n",
        "model](https://cloud.google.com/ml-engine/docs/tensorflow/deploying-models) to serve predictions."
      ]
    }
  ]
}